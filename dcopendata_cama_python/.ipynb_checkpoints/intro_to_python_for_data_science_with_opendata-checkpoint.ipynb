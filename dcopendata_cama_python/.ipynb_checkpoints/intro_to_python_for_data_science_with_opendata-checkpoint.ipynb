{
 "cells": [
  {
   "cell_type": "markdown",
   "metadata": {},
   "source": [
    "<small>This notebook was prepared by [Nicole Donnelly](mailto:nicole.donnelly@dc.gov) for the DC area regional Women in Data Science Conference [(DCMDVAWiDSRegional)](https://sites.google.com/view/dcmdvawidsregional/agenda?authuser=0) on March 5,2018 and presented as a one hour workshop. The original github repo is available [here](https://github.com/nd1/WiDS2018)\n",
    "\n",
    "This workshop has been created in [Jupyter Notebook](http://jupyter.org/) with [Python 3.6](https://www.python.org/downloads/release/python-360/). If you are unfamiliar with how to use a Jupyter notebook, consult [this tutorial](https://jupyter-notebook-beginner-guide.readthedocs.io/en/latest/).\n",
    "\n",
    "[![Binder](https://mybinder.org/badge.svg)](https://mybinder.org/v2/gh/nd1/WiDS2018/master)\n",
    "You can also run this notebook on [Binder](https://mybinder.org/) by clicking the image above. Binder allows you to run the notebook without installing anything on your system.\n",
    "</small>"
   ]
  },
  {
   "cell_type": "markdown",
   "metadata": {},
   "source": [
    "## <center>Intro to Python for Data Science with DC OpenData</center>"
   ]
  },
  {
   "cell_type": "markdown",
   "metadata": {},
   "source": [
    "![dc flag](./images/4994-004-096A5339.jpg)"
   ]
  },
  {
   "cell_type": "markdown",
   "metadata": {},
   "source": [
    "### Introduction\n",
    "As cities embrace the [open data](https://en.wikipedia.org/wiki/Open_data) movement (you can find links to datasets for 85 cities [here](https://www.forbes.com/sites/metabrown/2017/06/30/quick-links-to-municipal-open-data-portals-for-85-us-cities/#290b91072290)), data scientist have an ever expanding population of data available to analyze and incorporate into other projects. As with any data source, unless you are designing and collecting it yourself, you will likely need to do some data wrangling before moving on to exploratory data analysis (EDA) and machine learning. \n",
    "\n",
    "During the course of this workshop, we will look at using [Python](https://www.python.org/) to wrangle [open data available from the Government of the District of Columbia](http://opendata.dc.gov/) in preparation for machine learning (this workshop will not cover machine learning). We will also look at some initial EDA via visualizations once we build a data set we want to use.\n",
    "\n",
    "### Overview\n",
    "If you do not have particular project in mind, I encourage you to [browse through the available data sets](http://opendata.dc.gov/datasets) (951 as of the time this workshop was created). We are going to start today with the [Computer Assisted Mass Appraisal - Condominium](http://opendata.dc.gov/datasets/computer-assisted-mass-appraisal-condominium) data. There is a lot that can be done with this data, particularly in conjunction with other data available from DC ([tax data](http://opendata.dc.gov/datasets/integrated-tax-system-public-extract), [crime data](http://opendata.dc.gov/datasets?q=crime), [construction data](http://opendata.dc.gov/datasets?q=construction), or [city service requests](http://opendata.dc.gov/datasets?q=311) for example) or other sources like the [United States Census Bureau](https://www.census.gov/data.html) if you are interested in expanding on the dataset built here.\n",
    "\n",
    "Buying a house in DC can be a daunting task. Inventory was described in November 2017 as [\"dismally low\"](https://www.washingtonpost.com/news/where-we-live/wp/2017/11/14/buyers-are-gaining-more-leverage-in-the-hot-d-c-area-housing-market/?utm_term=.b1aa57960214). But maybe armed with some appraisal data and machine learning, we can understand condominium values a little better. For example, maybe we could create a simple application to determine appraisal value, similar to [this example](https://github.com/georgetown-analytics/machine-learning/blob/master/examples/bbengfort/home%20sales/home_sales.ipynb) which uses housing sales data."
   ]
  },
  {
   "cell_type": "markdown",
   "metadata": {},
   "source": [
    "### Data\n",
    "\n",
    "Here is [some information](https://www.arcgis.com/sharing/rest/content/items/d6c70978daa8461992658b69dccb3dbf/info/metadata/metadata.xml?format=default&output=html) available to us about the data.\n",
    "\n",
    "**Abstract**: Computer Assisted Mass Appraisal (CAMA) database. The dataset contains attribution on housing characteristics for commercial properties, and was created as part of the DC Geographic Information System (DC GIS) for the D.C. Office of the Chief Technology Officer (OCTO) and participating D.C. government agencies. All DC GIS data is stored and exported in Maryland State Plane coordinates NAD 83 meters. \n",
    "\n",
    "METADATA CONTENT IS IN PROCESS OF VALIDATION AND SUBJECT TO CHANGE.\n",
    "\n",
    "**Purpose**: This data is used for the planning and management of Washington, D.C. by local government agencies.\n",
    "\n",
    "**Supplemental Information**: Most lots have one building in the cama file, assigned BLDG_NUM of one in the table. For parcels where multiple buildings exist, the primary building (such as the main residence) is assigned BLDG_NUM = 1. The other buildings or structures have BLDG_NUM values in random sequential order. After the primary structure, there is no way to associate BLDG_NUM > 2 records with any particular structure on the lot.\n",
    "\n",
    "\n",
    "\n",
    "There is also some attribute information available. Some of it has been copied here. Not all of it is overly descriptive. \n",
    "\n",
    "\n",
    "***Entity and Attribute Information***:\n",
    "\n",
    "\n",
    "**Attribute Label**: SALEDATE\n",
    "\n",
    "**Attribute**:\n",
    "\n",
    "\n",
    "**Attribute Label**: Sale_Num\n",
    "\n",
    "**Attribute Definition**: sale number\n",
    "\n",
    "\n",
    "**Attribute Label**: EYB\n",
    "\n",
    "**Attribute Definition:** The calculated or apparent year, that an improvement was built that is most often more recent than actual year built.\n",
    "\n",
    "\n",
    "**Attribute Label**: Shape\n",
    "\n",
    "**Attribute Definition**: Feature geometry.\n",
    "\n",
    "\n",
    "**Attribute Label**: OWNERNAME\n",
    "\n",
    "**Attribute Definition**: property owner name\n",
    "\n",
    "\n",
    "**Attribute Label**: SSL\n",
    "\n",
    "**Attribute Definition**: square suffix and lot\n",
    "\n",
    "\n",
    "**Attribute Label**: Extwall_D\n",
    "\n",
    "**Attribute Definition**: exterior wall description\n",
    "\n",
    "\n",
    "**Attribute Label**: PRICE\n",
    "\n",
    "**Attribute**:\n",
    "\n",
    "\n",
    "**Attribute Label**: Yr_Rmdl\n",
    "\n",
    "**Attribute Definition**: year structure was remodeled\n",
    "\n",
    "\n",
    "**Attribute Label**: Saledate\n",
    "\n",
    "**Attribute Definition**: date of last sale\n",
    "\n",
    "\n",
    "**Attribute Label**: AYB\n",
    "\n",
    "**Attribute Definition**: The earliest time the main portion of the building was built. It is not affected by subsequent construction.\n",
    "\n",
    "\n",
    "**Attribute Label**: Price\n",
    "\n",
    "**Attribute Definition**: price of last sale\n",
    "\n",
    "\n",
    "**Attribute Label**: GBA\n",
    "\n",
    "**Attribute Definition**: gross building area in square feet\n"
   ]
  },
  {
   "cell_type": "markdown",
   "metadata": {},
   "source": [
    "### Tools\n",
    "\n",
    "This workshop has been created in [Jupyter Notebook](http://jupyter.org/) with [Python 3.6](https://www.python.org/downloads/release/python-360/). If you are unfamiliar with how to use a Jupyter notebook, consult [this tutorial](https://jupyter-notebook-beginner-guide.readthedocs.io/en/latest/).\n",
    "\n",
    "A popular package for working with data in python is [pandas](https://pandas.pydata.org/pandas-docs/stable/).\n",
    "\n",
    "From the above link:\n",
    "\n",
    "\"**pandas** is a Python package providing fast, flexible, and expressive data structures designed to make working with “relational” or “labeled” data both easy and intuitive. It aims to be the fundamental high-level building block for doing practical, **real world** data analysis in Python. Additionally, it has the broader goal of becoming **the most powerful and flexible open source data analysis / manipulation tool available in any language**. It is already well on its way toward this goal.\n",
    "\n",
    "pandas is well suited for many different kinds of data:\n",
    "\n",
    "* Tabular data with heterogeneously-typed columns, as in an SQL table or Excel spreadsheet\n",
    "* Ordered and unordered (not necessarily fixed-frequency) time series data.\n",
    "* Arbitrary matrix data (homogeneously typed or heterogeneous) with row and column labels\n",
    "* Any other form of observational / statistical data sets. The data actually need not be labeled at all to be placed into a pandas data structure\"\n",
    "\n",
    "We will also use [Seaborn](https://seaborn.pydata.org/) which is a visualization package built on [matplotlib](https://matplotlib.org/), a 2D plotting library in python. [openpyxl](https://pypi.python.org/pypi/openpyxl) is used to assist with writing files to an excel format for an optional part of the work below.\n",
    "\n",
    "The following libraries, which are part of standard python, are also used:\n",
    "\n",
    "* [os](https://docs.python.org/3/library/os.html)\n",
    "* [urllib](https://docs.python.org/3/library/urllib.html)\n",
    "\n",
    "After importing the packages and libraries needed, I am also setting two options that will assist in this exercise. `pd.options.display.max_columns = 35` is a pandas option that controls the number of columns displayed in a dataframe. Here we override the default and display 35. `%matplotlib inline` tells the notebook to display our plots in the notebook instead of in an external window.\n"
   ]
  },
  {
   "cell_type": "code",
   "execution_count": 1,
   "metadata": {
    "collapsed": true
   },
   "outputs": [],
   "source": [
    "import os\n",
    "import urllib\n",
    "import openpyxl\n",
    "\n",
    "import pandas as pd\n",
    "import seaborn as sns\n",
    "\n",
    "import matplotlib.pyplot as plt"
   ]
  },
  {
   "cell_type": "code",
   "execution_count": 2,
   "metadata": {
    "collapsed": true
   },
   "outputs": [],
   "source": [
    "pd.options.display.max_columns = 35\n",
    "%matplotlib inline"
   ]
  },
  {
   "cell_type": "markdown",
   "metadata": {},
   "source": [
    "### Data Wrangling\n",
    "\n",
    "Now we are ready to get our data. Storing the original files is always good practice so you can go back to the original data if needed. Below you will find a short python function to download data to a data directory. This way, if you decide to download more data later, you can set the information particular to that data as variables and re-use this function."
   ]
  },
  {
   "cell_type": "code",
   "execution_count": 3,
   "metadata": {
    "collapsed": true
   },
   "outputs": [],
   "source": [
    "# create a default data directory. Since we are using os, this convention will work on both Windows and\n",
    "# *nix based environments\n",
    "DATA_DIR = \"./data\"\n",
    "\n",
    "# the two variables below are the url of our dataset on the opendata site and the path/name for the file\n",
    "#we are downloading\n",
    "cama_url = \"https://opendata.arcgis.com/datasets/d6c70978daa8461992658b69dccb3dbf_24.csv\"\n",
    "cama_file = os.path.join(DATA_DIR, \"cama-condo.csv\")"
   ]
  },
  {
   "cell_type": "code",
   "execution_count": 4,
   "metadata": {
    "collapsed": true
   },
   "outputs": [],
   "source": [
    "# the get_data function takes 3 variables - our data directory (dname), the url of our data (furl) and \n",
    "# the path/name for our file (fname)\n",
    "\n",
    "def get_data(dname, furl, fname):\n",
    "    \n",
    "    # check to see if the data directory exists. if not, create it and print the message\n",
    "    if not os.path.exists(dname):\n",
    "        print(\"making directory\")\n",
    "        os.makedirs(dname)\n",
    "    # if the data directory exists, just print the message\n",
    "    else:\n",
    "        print(\"directory exists\")\n",
    "        \n",
    "    # check to see if the file exists. if not, download the file and print the message\n",
    "    if not os.path.isfile(fname):\n",
    "        print(\"downloading file\")\n",
    "        urllib.request.urlretrieve(furl, fname)\n",
    "    \n",
    "    # if the file exists, print the message (if you cloned the github repo, all the data is included)\n",
    "    else:\n",
    "        print(\"file exists\")"
   ]
  },
  {
   "cell_type": "markdown",
   "metadata": {},
   "source": [
    "Use the get_data function to download and save Computer Assisted Mass Appraisal - Condominium."
   ]
  },
  {
   "cell_type": "code",
   "execution_count": 5,
   "metadata": {},
   "outputs": [
    {
     "name": "stdout",
     "output_type": "stream",
     "text": [
      "directory exists\n",
      "file exists\n"
     ]
    }
   ],
   "source": [
    "get_data(DATA_DIR, cama_url, cama_file)"
   ]
  },
  {
   "cell_type": "markdown",
   "metadata": {},
   "source": [
    "We are now going to use pandas to read the downloaded csv file into a dataframe called \"df\". There are a lot of options you can use when creating a dataframe. Take a look at the [documenation](https://pandas.pydata.org/pandas-docs/stable/generated/pandas.DataFrame.html)."
   ]
  },
  {
   "cell_type": "code",
   "execution_count": 6,
   "metadata": {
    "collapsed": true
   },
   "outputs": [],
   "source": [
    "df = pd.read_csv(cama_file)"
   ]
  },
  {
   "cell_type": "markdown",
   "metadata": {},
   "source": [
    "We can use \"head\" to see the head, or first 5 rows of the data. If you want to see more than 5, put the number of rows you would like to see more rows, put the number you want inside the parenthesis."
   ]
  },
  {
   "cell_type": "code",
   "execution_count": 7,
   "metadata": {},
   "outputs": [
    {
     "data": {
      "text/html": [
       "<div>\n",
       "<style>\n",
       "    .dataframe thead tr:only-child th {\n",
       "        text-align: right;\n",
       "    }\n",
       "\n",
       "    .dataframe thead th {\n",
       "        text-align: left;\n",
       "    }\n",
       "\n",
       "    .dataframe tbody tr th {\n",
       "        vertical-align: top;\n",
       "    }\n",
       "</style>\n",
       "<table border=\"1\" class=\"dataframe\">\n",
       "  <thead>\n",
       "    <tr style=\"text-align: right;\">\n",
       "      <th></th>\n",
       "      <th>OBJECTID</th>\n",
       "      <th>SSL</th>\n",
       "      <th>BLDG_NUM</th>\n",
       "      <th>CMPLX_NUM</th>\n",
       "      <th>AYB</th>\n",
       "      <th>YR_RMDL</th>\n",
       "      <th>EYB</th>\n",
       "      <th>ROOMS</th>\n",
       "      <th>BEDRM</th>\n",
       "      <th>BATHRM</th>\n",
       "      <th>HF_BATHRM</th>\n",
       "      <th>HEAT</th>\n",
       "      <th>HEAT_D</th>\n",
       "      <th>AC</th>\n",
       "      <th>FIREPLACES</th>\n",
       "      <th>SALEDATE</th>\n",
       "      <th>PRICE</th>\n",
       "      <th>QUALIFIED</th>\n",
       "      <th>SALE_NUM</th>\n",
       "      <th>LIVING_GBA</th>\n",
       "      <th>USECODE</th>\n",
       "      <th>LANDAREA</th>\n",
       "      <th>GIS_LAST_MOD_DTTM</th>\n",
       "    </tr>\n",
       "  </thead>\n",
       "  <tbody>\n",
       "    <tr>\n",
       "      <th>0</th>\n",
       "      <td>3001</td>\n",
       "      <td>5763    2009</td>\n",
       "      <td>1</td>\n",
       "      <td>1481</td>\n",
       "      <td>1965</td>\n",
       "      <td>NaN</td>\n",
       "      <td>2002</td>\n",
       "      <td>4.0</td>\n",
       "      <td>2.0</td>\n",
       "      <td>1.0</td>\n",
       "      <td>0.0</td>\n",
       "      <td>3.0</td>\n",
       "      <td>Wall Furnace</td>\n",
       "      <td>Y</td>\n",
       "      <td>0.0</td>\n",
       "      <td>2007-06-11T00:00:00.000Z</td>\n",
       "      <td>145000.0</td>\n",
       "      <td>Q</td>\n",
       "      <td>1</td>\n",
       "      <td>715</td>\n",
       "      <td>16</td>\n",
       "      <td>1185</td>\n",
       "      <td>2018-02-25T18:02:24.000Z</td>\n",
       "    </tr>\n",
       "    <tr>\n",
       "      <th>1</th>\n",
       "      <td>3002</td>\n",
       "      <td>5763    2010</td>\n",
       "      <td>1</td>\n",
       "      <td>1481</td>\n",
       "      <td>1965</td>\n",
       "      <td>NaN</td>\n",
       "      <td>2002</td>\n",
       "      <td>2.0</td>\n",
       "      <td>0.0</td>\n",
       "      <td>1.0</td>\n",
       "      <td>0.0</td>\n",
       "      <td>3.0</td>\n",
       "      <td>Wall Furnace</td>\n",
       "      <td>Y</td>\n",
       "      <td>0.0</td>\n",
       "      <td>2015-09-28T00:00:00.000Z</td>\n",
       "      <td>0.0</td>\n",
       "      <td>U</td>\n",
       "      <td>3</td>\n",
       "      <td>404</td>\n",
       "      <td>16</td>\n",
       "      <td>593</td>\n",
       "      <td>2018-02-25T18:02:24.000Z</td>\n",
       "    </tr>\n",
       "    <tr>\n",
       "      <th>2</th>\n",
       "      <td>3003</td>\n",
       "      <td>5763    2011</td>\n",
       "      <td>1</td>\n",
       "      <td>1481</td>\n",
       "      <td>1965</td>\n",
       "      <td>NaN</td>\n",
       "      <td>2002</td>\n",
       "      <td>4.0</td>\n",
       "      <td>2.0</td>\n",
       "      <td>1.0</td>\n",
       "      <td>0.0</td>\n",
       "      <td>3.0</td>\n",
       "      <td>Wall Furnace</td>\n",
       "      <td>Y</td>\n",
       "      <td>0.0</td>\n",
       "      <td>2005-08-16T00:00:00.000Z</td>\n",
       "      <td>126000.0</td>\n",
       "      <td>Q</td>\n",
       "      <td>1</td>\n",
       "      <td>688</td>\n",
       "      <td>16</td>\n",
       "      <td>988</td>\n",
       "      <td>2018-02-25T18:02:24.000Z</td>\n",
       "    </tr>\n",
       "    <tr>\n",
       "      <th>3</th>\n",
       "      <td>3004</td>\n",
       "      <td>5763    2012</td>\n",
       "      <td>1</td>\n",
       "      <td>1481</td>\n",
       "      <td>1965</td>\n",
       "      <td>NaN</td>\n",
       "      <td>2002</td>\n",
       "      <td>4.0</td>\n",
       "      <td>2.0</td>\n",
       "      <td>1.0</td>\n",
       "      <td>0.0</td>\n",
       "      <td>3.0</td>\n",
       "      <td>Wall Furnace</td>\n",
       "      <td>Y</td>\n",
       "      <td>0.0</td>\n",
       "      <td>2002-05-21T00:00:00.000Z</td>\n",
       "      <td>80995.0</td>\n",
       "      <td>Q</td>\n",
       "      <td>1</td>\n",
       "      <td>698</td>\n",
       "      <td>16</td>\n",
       "      <td>1087</td>\n",
       "      <td>2018-02-25T18:02:24.000Z</td>\n",
       "    </tr>\n",
       "    <tr>\n",
       "      <th>4</th>\n",
       "      <td>3005</td>\n",
       "      <td>5763    2013</td>\n",
       "      <td>1</td>\n",
       "      <td>1481</td>\n",
       "      <td>1965</td>\n",
       "      <td>NaN</td>\n",
       "      <td>2002</td>\n",
       "      <td>3.0</td>\n",
       "      <td>1.0</td>\n",
       "      <td>1.0</td>\n",
       "      <td>0.0</td>\n",
       "      <td>3.0</td>\n",
       "      <td>Wall Furnace</td>\n",
       "      <td>Y</td>\n",
       "      <td>0.0</td>\n",
       "      <td>2005-04-26T00:00:00.000Z</td>\n",
       "      <td>107500.0</td>\n",
       "      <td>Q</td>\n",
       "      <td>1</td>\n",
       "      <td>612</td>\n",
       "      <td>16</td>\n",
       "      <td>889</td>\n",
       "      <td>2018-02-25T18:02:24.000Z</td>\n",
       "    </tr>\n",
       "  </tbody>\n",
       "</table>\n",
       "</div>"
      ],
      "text/plain": [
       "   OBJECTID           SSL  BLDG_NUM  CMPLX_NUM   AYB  YR_RMDL   EYB  ROOMS  \\\n",
       "0      3001  5763    2009         1       1481  1965      NaN  2002    4.0   \n",
       "1      3002  5763    2010         1       1481  1965      NaN  2002    2.0   \n",
       "2      3003  5763    2011         1       1481  1965      NaN  2002    4.0   \n",
       "3      3004  5763    2012         1       1481  1965      NaN  2002    4.0   \n",
       "4      3005  5763    2013         1       1481  1965      NaN  2002    3.0   \n",
       "\n",
       "   BEDRM  BATHRM  HF_BATHRM  HEAT        HEAT_D AC  FIREPLACES  \\\n",
       "0    2.0     1.0        0.0   3.0  Wall Furnace  Y         0.0   \n",
       "1    0.0     1.0        0.0   3.0  Wall Furnace  Y         0.0   \n",
       "2    2.0     1.0        0.0   3.0  Wall Furnace  Y         0.0   \n",
       "3    2.0     1.0        0.0   3.0  Wall Furnace  Y         0.0   \n",
       "4    1.0     1.0        0.0   3.0  Wall Furnace  Y         0.0   \n",
       "\n",
       "                   SALEDATE     PRICE QUALIFIED  SALE_NUM  LIVING_GBA  \\\n",
       "0  2007-06-11T00:00:00.000Z  145000.0         Q         1         715   \n",
       "1  2015-09-28T00:00:00.000Z       0.0         U         3         404   \n",
       "2  2005-08-16T00:00:00.000Z  126000.0         Q         1         688   \n",
       "3  2002-05-21T00:00:00.000Z   80995.0         Q         1         698   \n",
       "4  2005-04-26T00:00:00.000Z  107500.0         Q         1         612   \n",
       "\n",
       "   USECODE  LANDAREA         GIS_LAST_MOD_DTTM  \n",
       "0       16      1185  2018-02-25T18:02:24.000Z  \n",
       "1       16       593  2018-02-25T18:02:24.000Z  \n",
       "2       16       988  2018-02-25T18:02:24.000Z  \n",
       "3       16      1087  2018-02-25T18:02:24.000Z  \n",
       "4       16       889  2018-02-25T18:02:24.000Z  "
      ]
     },
     "execution_count": 7,
     "metadata": {},
     "output_type": "execute_result"
    }
   ],
   "source": [
    "df.head()"
   ]
  },
  {
   "cell_type": "code",
   "execution_count": 8,
   "metadata": {},
   "outputs": [
    {
     "data": {
      "text/html": [
       "<div>\n",
       "<style>\n",
       "    .dataframe thead tr:only-child th {\n",
       "        text-align: right;\n",
       "    }\n",
       "\n",
       "    .dataframe thead th {\n",
       "        text-align: left;\n",
       "    }\n",
       "\n",
       "    .dataframe tbody tr th {\n",
       "        vertical-align: top;\n",
       "    }\n",
       "</style>\n",
       "<table border=\"1\" class=\"dataframe\">\n",
       "  <thead>\n",
       "    <tr style=\"text-align: right;\">\n",
       "      <th></th>\n",
       "      <th>OBJECTID</th>\n",
       "      <th>SSL</th>\n",
       "      <th>BLDG_NUM</th>\n",
       "      <th>CMPLX_NUM</th>\n",
       "      <th>AYB</th>\n",
       "      <th>YR_RMDL</th>\n",
       "      <th>EYB</th>\n",
       "      <th>ROOMS</th>\n",
       "      <th>BEDRM</th>\n",
       "      <th>BATHRM</th>\n",
       "      <th>HF_BATHRM</th>\n",
       "      <th>HEAT</th>\n",
       "      <th>HEAT_D</th>\n",
       "      <th>AC</th>\n",
       "      <th>FIREPLACES</th>\n",
       "      <th>SALEDATE</th>\n",
       "      <th>PRICE</th>\n",
       "      <th>QUALIFIED</th>\n",
       "      <th>SALE_NUM</th>\n",
       "      <th>LIVING_GBA</th>\n",
       "      <th>USECODE</th>\n",
       "      <th>LANDAREA</th>\n",
       "      <th>GIS_LAST_MOD_DTTM</th>\n",
       "    </tr>\n",
       "  </thead>\n",
       "  <tbody>\n",
       "    <tr>\n",
       "      <th>0</th>\n",
       "      <td>3001</td>\n",
       "      <td>5763    2009</td>\n",
       "      <td>1</td>\n",
       "      <td>1481</td>\n",
       "      <td>1965</td>\n",
       "      <td>NaN</td>\n",
       "      <td>2002</td>\n",
       "      <td>4.0</td>\n",
       "      <td>2.0</td>\n",
       "      <td>1.0</td>\n",
       "      <td>0.0</td>\n",
       "      <td>3.0</td>\n",
       "      <td>Wall Furnace</td>\n",
       "      <td>Y</td>\n",
       "      <td>0.0</td>\n",
       "      <td>2007-06-11T00:00:00.000Z</td>\n",
       "      <td>145000.0</td>\n",
       "      <td>Q</td>\n",
       "      <td>1</td>\n",
       "      <td>715</td>\n",
       "      <td>16</td>\n",
       "      <td>1185</td>\n",
       "      <td>2018-02-25T18:02:24.000Z</td>\n",
       "    </tr>\n",
       "    <tr>\n",
       "      <th>1</th>\n",
       "      <td>3002</td>\n",
       "      <td>5763    2010</td>\n",
       "      <td>1</td>\n",
       "      <td>1481</td>\n",
       "      <td>1965</td>\n",
       "      <td>NaN</td>\n",
       "      <td>2002</td>\n",
       "      <td>2.0</td>\n",
       "      <td>0.0</td>\n",
       "      <td>1.0</td>\n",
       "      <td>0.0</td>\n",
       "      <td>3.0</td>\n",
       "      <td>Wall Furnace</td>\n",
       "      <td>Y</td>\n",
       "      <td>0.0</td>\n",
       "      <td>2015-09-28T00:00:00.000Z</td>\n",
       "      <td>0.0</td>\n",
       "      <td>U</td>\n",
       "      <td>3</td>\n",
       "      <td>404</td>\n",
       "      <td>16</td>\n",
       "      <td>593</td>\n",
       "      <td>2018-02-25T18:02:24.000Z</td>\n",
       "    </tr>\n",
       "    <tr>\n",
       "      <th>2</th>\n",
       "      <td>3003</td>\n",
       "      <td>5763    2011</td>\n",
       "      <td>1</td>\n",
       "      <td>1481</td>\n",
       "      <td>1965</td>\n",
       "      <td>NaN</td>\n",
       "      <td>2002</td>\n",
       "      <td>4.0</td>\n",
       "      <td>2.0</td>\n",
       "      <td>1.0</td>\n",
       "      <td>0.0</td>\n",
       "      <td>3.0</td>\n",
       "      <td>Wall Furnace</td>\n",
       "      <td>Y</td>\n",
       "      <td>0.0</td>\n",
       "      <td>2005-08-16T00:00:00.000Z</td>\n",
       "      <td>126000.0</td>\n",
       "      <td>Q</td>\n",
       "      <td>1</td>\n",
       "      <td>688</td>\n",
       "      <td>16</td>\n",
       "      <td>988</td>\n",
       "      <td>2018-02-25T18:02:24.000Z</td>\n",
       "    </tr>\n",
       "    <tr>\n",
       "      <th>3</th>\n",
       "      <td>3004</td>\n",
       "      <td>5763    2012</td>\n",
       "      <td>1</td>\n",
       "      <td>1481</td>\n",
       "      <td>1965</td>\n",
       "      <td>NaN</td>\n",
       "      <td>2002</td>\n",
       "      <td>4.0</td>\n",
       "      <td>2.0</td>\n",
       "      <td>1.0</td>\n",
       "      <td>0.0</td>\n",
       "      <td>3.0</td>\n",
       "      <td>Wall Furnace</td>\n",
       "      <td>Y</td>\n",
       "      <td>0.0</td>\n",
       "      <td>2002-05-21T00:00:00.000Z</td>\n",
       "      <td>80995.0</td>\n",
       "      <td>Q</td>\n",
       "      <td>1</td>\n",
       "      <td>698</td>\n",
       "      <td>16</td>\n",
       "      <td>1087</td>\n",
       "      <td>2018-02-25T18:02:24.000Z</td>\n",
       "    </tr>\n",
       "    <tr>\n",
       "      <th>4</th>\n",
       "      <td>3005</td>\n",
       "      <td>5763    2013</td>\n",
       "      <td>1</td>\n",
       "      <td>1481</td>\n",
       "      <td>1965</td>\n",
       "      <td>NaN</td>\n",
       "      <td>2002</td>\n",
       "      <td>3.0</td>\n",
       "      <td>1.0</td>\n",
       "      <td>1.0</td>\n",
       "      <td>0.0</td>\n",
       "      <td>3.0</td>\n",
       "      <td>Wall Furnace</td>\n",
       "      <td>Y</td>\n",
       "      <td>0.0</td>\n",
       "      <td>2005-04-26T00:00:00.000Z</td>\n",
       "      <td>107500.0</td>\n",
       "      <td>Q</td>\n",
       "      <td>1</td>\n",
       "      <td>612</td>\n",
       "      <td>16</td>\n",
       "      <td>889</td>\n",
       "      <td>2018-02-25T18:02:24.000Z</td>\n",
       "    </tr>\n",
       "    <tr>\n",
       "      <th>5</th>\n",
       "      <td>3006</td>\n",
       "      <td>5763    2014</td>\n",
       "      <td>1</td>\n",
       "      <td>1481</td>\n",
       "      <td>1965</td>\n",
       "      <td>NaN</td>\n",
       "      <td>2002</td>\n",
       "      <td>3.0</td>\n",
       "      <td>1.0</td>\n",
       "      <td>1.0</td>\n",
       "      <td>0.0</td>\n",
       "      <td>3.0</td>\n",
       "      <td>Wall Furnace</td>\n",
       "      <td>Y</td>\n",
       "      <td>0.0</td>\n",
       "      <td>2017-03-27T00:00:00.000Z</td>\n",
       "      <td>54900.0</td>\n",
       "      <td>U</td>\n",
       "      <td>5</td>\n",
       "      <td>578</td>\n",
       "      <td>16</td>\n",
       "      <td>790</td>\n",
       "      <td>2018-02-25T18:02:24.000Z</td>\n",
       "    </tr>\n",
       "    <tr>\n",
       "      <th>6</th>\n",
       "      <td>3007</td>\n",
       "      <td>5763    2015</td>\n",
       "      <td>1</td>\n",
       "      <td>1481</td>\n",
       "      <td>1965</td>\n",
       "      <td>NaN</td>\n",
       "      <td>2002</td>\n",
       "      <td>3.0</td>\n",
       "      <td>1.0</td>\n",
       "      <td>1.0</td>\n",
       "      <td>0.0</td>\n",
       "      <td>3.0</td>\n",
       "      <td>Wall Furnace</td>\n",
       "      <td>Y</td>\n",
       "      <td>0.0</td>\n",
       "      <td>2002-08-20T00:00:00.000Z</td>\n",
       "      <td>65995.0</td>\n",
       "      <td>Q</td>\n",
       "      <td>1</td>\n",
       "      <td>578</td>\n",
       "      <td>16</td>\n",
       "      <td>790</td>\n",
       "      <td>2018-02-25T18:02:24.000Z</td>\n",
       "    </tr>\n",
       "    <tr>\n",
       "      <th>7</th>\n",
       "      <td>3008</td>\n",
       "      <td>5763    2016</td>\n",
       "      <td>1</td>\n",
       "      <td>1481</td>\n",
       "      <td>1965</td>\n",
       "      <td>NaN</td>\n",
       "      <td>2002</td>\n",
       "      <td>3.0</td>\n",
       "      <td>1.0</td>\n",
       "      <td>1.0</td>\n",
       "      <td>0.0</td>\n",
       "      <td>3.0</td>\n",
       "      <td>Wall Furnace</td>\n",
       "      <td>Y</td>\n",
       "      <td>0.0</td>\n",
       "      <td>2002-05-15T00:00:00.000Z</td>\n",
       "      <td>62995.0</td>\n",
       "      <td>Q</td>\n",
       "      <td>1</td>\n",
       "      <td>578</td>\n",
       "      <td>16</td>\n",
       "      <td>790</td>\n",
       "      <td>2018-02-25T18:02:24.000Z</td>\n",
       "    </tr>\n",
       "  </tbody>\n",
       "</table>\n",
       "</div>"
      ],
      "text/plain": [
       "   OBJECTID           SSL  BLDG_NUM  CMPLX_NUM   AYB  YR_RMDL   EYB  ROOMS  \\\n",
       "0      3001  5763    2009         1       1481  1965      NaN  2002    4.0   \n",
       "1      3002  5763    2010         1       1481  1965      NaN  2002    2.0   \n",
       "2      3003  5763    2011         1       1481  1965      NaN  2002    4.0   \n",
       "3      3004  5763    2012         1       1481  1965      NaN  2002    4.0   \n",
       "4      3005  5763    2013         1       1481  1965      NaN  2002    3.0   \n",
       "5      3006  5763    2014         1       1481  1965      NaN  2002    3.0   \n",
       "6      3007  5763    2015         1       1481  1965      NaN  2002    3.0   \n",
       "7      3008  5763    2016         1       1481  1965      NaN  2002    3.0   \n",
       "\n",
       "   BEDRM  BATHRM  HF_BATHRM  HEAT        HEAT_D AC  FIREPLACES  \\\n",
       "0    2.0     1.0        0.0   3.0  Wall Furnace  Y         0.0   \n",
       "1    0.0     1.0        0.0   3.0  Wall Furnace  Y         0.0   \n",
       "2    2.0     1.0        0.0   3.0  Wall Furnace  Y         0.0   \n",
       "3    2.0     1.0        0.0   3.0  Wall Furnace  Y         0.0   \n",
       "4    1.0     1.0        0.0   3.0  Wall Furnace  Y         0.0   \n",
       "5    1.0     1.0        0.0   3.0  Wall Furnace  Y         0.0   \n",
       "6    1.0     1.0        0.0   3.0  Wall Furnace  Y         0.0   \n",
       "7    1.0     1.0        0.0   3.0  Wall Furnace  Y         0.0   \n",
       "\n",
       "                   SALEDATE     PRICE QUALIFIED  SALE_NUM  LIVING_GBA  \\\n",
       "0  2007-06-11T00:00:00.000Z  145000.0         Q         1         715   \n",
       "1  2015-09-28T00:00:00.000Z       0.0         U         3         404   \n",
       "2  2005-08-16T00:00:00.000Z  126000.0         Q         1         688   \n",
       "3  2002-05-21T00:00:00.000Z   80995.0         Q         1         698   \n",
       "4  2005-04-26T00:00:00.000Z  107500.0         Q         1         612   \n",
       "5  2017-03-27T00:00:00.000Z   54900.0         U         5         578   \n",
       "6  2002-08-20T00:00:00.000Z   65995.0         Q         1         578   \n",
       "7  2002-05-15T00:00:00.000Z   62995.0         Q         1         578   \n",
       "\n",
       "   USECODE  LANDAREA         GIS_LAST_MOD_DTTM  \n",
       "0       16      1185  2018-02-25T18:02:24.000Z  \n",
       "1       16       593  2018-02-25T18:02:24.000Z  \n",
       "2       16       988  2018-02-25T18:02:24.000Z  \n",
       "3       16      1087  2018-02-25T18:02:24.000Z  \n",
       "4       16       889  2018-02-25T18:02:24.000Z  \n",
       "5       16       790  2018-02-25T18:02:24.000Z  \n",
       "6       16       790  2018-02-25T18:02:24.000Z  \n",
       "7       16       790  2018-02-25T18:02:24.000Z  "
      ]
     },
     "execution_count": 8,
     "metadata": {},
     "output_type": "execute_result"
    }
   ],
   "source": [
    "df.head(8)"
   ]
  },
  {
   "cell_type": "markdown",
   "metadata": {},
   "source": [
    "Shape will tell us the shape -- number of rows and columns -- in our dataset. Columns will give us a list of column names."
   ]
  },
  {
   "cell_type": "code",
   "execution_count": 9,
   "metadata": {},
   "outputs": [
    {
     "data": {
      "text/plain": [
       "(52954, 23)"
      ]
     },
     "execution_count": 9,
     "metadata": {},
     "output_type": "execute_result"
    }
   ],
   "source": [
    "df.shape"
   ]
  },
  {
   "cell_type": "code",
   "execution_count": 10,
   "metadata": {},
   "outputs": [
    {
     "data": {
      "text/plain": [
       "Index(['OBJECTID', 'SSL', 'BLDG_NUM', 'CMPLX_NUM', 'AYB', 'YR_RMDL', 'EYB',\n",
       "       'ROOMS', 'BEDRM', 'BATHRM', 'HF_BATHRM', 'HEAT', 'HEAT_D', 'AC',\n",
       "       'FIREPLACES', 'SALEDATE', 'PRICE', 'QUALIFIED', 'SALE_NUM',\n",
       "       'LIVING_GBA', 'USECODE', 'LANDAREA', 'GIS_LAST_MOD_DTTM'],\n",
       "      dtype='object')"
      ]
     },
     "execution_count": 10,
     "metadata": {},
     "output_type": "execute_result"
    }
   ],
   "source": [
    "df.columns"
   ]
  },
  {
   "cell_type": "markdown",
   "metadata": {},
   "source": [
    "Info will give us even more info. Take a few minutes to review the information."
   ]
  },
  {
   "cell_type": "code",
   "execution_count": 11,
   "metadata": {},
   "outputs": [
    {
     "name": "stdout",
     "output_type": "stream",
     "text": [
      "<class 'pandas.core.frame.DataFrame'>\n",
      "RangeIndex: 52954 entries, 0 to 52953\n",
      "Data columns (total 23 columns):\n",
      "OBJECTID             52954 non-null int64\n",
      "SSL                  52954 non-null object\n",
      "BLDG_NUM             52954 non-null int64\n",
      "CMPLX_NUM            52954 non-null int64\n",
      "AYB                  52954 non-null int64\n",
      "YR_RMDL              31686 non-null float64\n",
      "EYB                  52954 non-null int64\n",
      "ROOMS                52308 non-null float64\n",
      "BEDRM                52323 non-null float64\n",
      "BATHRM               52323 non-null float64\n",
      "HF_BATHRM            52085 non-null float64\n",
      "HEAT                 52321 non-null float64\n",
      "HEAT_D               52321 non-null object\n",
      "AC                   52322 non-null object\n",
      "FIREPLACES           52160 non-null float64\n",
      "SALEDATE             52954 non-null object\n",
      "PRICE                48934 non-null float64\n",
      "QUALIFIED            52953 non-null object\n",
      "SALE_NUM             52954 non-null int64\n",
      "LIVING_GBA           52954 non-null int64\n",
      "USECODE              52954 non-null int64\n",
      "LANDAREA             52954 non-null int64\n",
      "GIS_LAST_MOD_DTTM    52954 non-null object\n",
      "dtypes: float64(8), int64(9), object(6)\n",
      "memory usage: 9.3+ MB\n"
     ]
    }
   ],
   "source": [
    "df.info()"
   ]
  },
  {
   "cell_type": "markdown",
   "metadata": {},
   "source": [
    "Now that we have data, let's start wrangling it in to something useful to us. If we use the idea mentioned above to create a simple application that uses machine learning to determine the appraisal value of a condominium in order to assist with the daunting task of purchasing in DC, we might want to start wrangling the dataset into something we can use to perform a [regression analysis](https://en.wikipedia.org/wiki/Regression_analysis). With this in mind, we will need data that contains numerical variables and we will also want to look at the correlations among these variables.\n",
    "\n",
    "To add some additional information to help us work through the data, let's say our hypothetical buyer has decided they are only interested in condos with at least 2 bedrooms. Additionally, they would like to live in [Ward 6](https://planning.dc.gov/page/about-ward-6). The land area isn't really important to them.\n",
    "\n",
    "Let's start by dropping some items we won't need. OBJECTID is a unique idea in the data and is not going to be useful in our regression. We don't have good information in our metadata on what QUALIFIED or USECODE are. We hadve decided LANDAREA is not important. GIS_LAST_MOD_DTTM is a modification date for the data, so also not relevant here. \n",
    "\n",
    "We use drop to drop columns in pandas. The axis variable of 1 specifies columns. \"inplace\" tells pandas we want to drop the columns from our actual dataframe. Without it, pandas will return a temporary dataframe object that excludes those columns. Again, the [documentation](https://pandas.pydata.org/pandas-docs/stable/generated/pandas.DataFrame.drop.html) will explain the options available for the command."
   ]
  },
  {
   "cell_type": "code",
   "execution_count": 12,
   "metadata": {
    "collapsed": true
   },
   "outputs": [],
   "source": [
    "df.drop(['OBJECTID', 'QUALIFIED', 'USECODE', 'LANDAREA', 'GIS_LAST_MOD_DTTM'], axis=1, inplace=True)"
   ]
  },
  {
   "cell_type": "markdown",
   "metadata": {},
   "source": [
    "SALEDATE is probably something we want to hold on to. But as info showed us, the data is an object, not a date/time. Let's convert it to something more useable."
   ]
  },
  {
   "cell_type": "code",
   "execution_count": 13,
   "metadata": {
    "collapsed": true
   },
   "outputs": [],
   "source": [
    "df['SALEDATE'] = pd.to_datetime(df['SALEDATE'], errors='coerce')"
   ]
  },
  {
   "cell_type": "markdown",
   "metadata": {},
   "source": [
    "Let's see what our data looks like now."
   ]
  },
  {
   "cell_type": "code",
   "execution_count": 14,
   "metadata": {},
   "outputs": [
    {
     "name": "stdout",
     "output_type": "stream",
     "text": [
      "<class 'pandas.core.frame.DataFrame'>\n",
      "RangeIndex: 52954 entries, 0 to 52953\n",
      "Data columns (total 18 columns):\n",
      "SSL           52954 non-null object\n",
      "BLDG_NUM      52954 non-null int64\n",
      "CMPLX_NUM     52954 non-null int64\n",
      "AYB           52954 non-null int64\n",
      "YR_RMDL       31686 non-null float64\n",
      "EYB           52954 non-null int64\n",
      "ROOMS         52308 non-null float64\n",
      "BEDRM         52323 non-null float64\n",
      "BATHRM        52323 non-null float64\n",
      "HF_BATHRM     52085 non-null float64\n",
      "HEAT          52321 non-null float64\n",
      "HEAT_D        52321 non-null object\n",
      "AC            52322 non-null object\n",
      "FIREPLACES    52160 non-null float64\n",
      "SALEDATE      52953 non-null datetime64[ns]\n",
      "PRICE         48934 non-null float64\n",
      "SALE_NUM      52954 non-null int64\n",
      "LIVING_GBA    52954 non-null int64\n",
      "dtypes: datetime64[ns](1), float64(8), int64(6), object(3)\n",
      "memory usage: 7.3+ MB\n"
     ]
    }
   ],
   "source": [
    "df.info()"
   ]
  },
  {
   "cell_type": "markdown",
   "metadata": {},
   "source": [
    "The number after the column name tells us the number of non-null values. It looks like we don't have a price for everything. PRICE has 48,934 non-null values while our data has 52,954 objects. An object isn't going to be useful to us without a price and we don't really have an easy way to figure out what that missing price should be. So let's drop those items from the data."
   ]
  },
  {
   "cell_type": "code",
   "execution_count": 15,
   "metadata": {
    "collapsed": true
   },
   "outputs": [],
   "source": [
    "df = df[df.PRICE.notnull()]"
   ]
  },
  {
   "cell_type": "code",
   "execution_count": 16,
   "metadata": {},
   "outputs": [
    {
     "name": "stdout",
     "output_type": "stream",
     "text": [
      "<class 'pandas.core.frame.DataFrame'>\n",
      "Int64Index: 48934 entries, 0 to 52953\n",
      "Data columns (total 18 columns):\n",
      "SSL           48934 non-null object\n",
      "BLDG_NUM      48934 non-null int64\n",
      "CMPLX_NUM     48934 non-null int64\n",
      "AYB           48934 non-null int64\n",
      "YR_RMDL       29386 non-null float64\n",
      "EYB           48934 non-null int64\n",
      "ROOMS         48289 non-null float64\n",
      "BEDRM         48303 non-null float64\n",
      "BATHRM        48303 non-null float64\n",
      "HF_BATHRM     48067 non-null float64\n",
      "HEAT          48302 non-null float64\n",
      "HEAT_D        48302 non-null object\n",
      "AC            48302 non-null object\n",
      "FIREPLACES    48144 non-null float64\n",
      "SALEDATE      48933 non-null datetime64[ns]\n",
      "PRICE         48934 non-null float64\n",
      "SALE_NUM      48934 non-null int64\n",
      "LIVING_GBA    48934 non-null int64\n",
      "dtypes: datetime64[ns](1), float64(8), int64(6), object(3)\n",
      "memory usage: 7.1+ MB\n"
     ]
    }
   ],
   "source": [
    "df.info()"
   ]
  },
  {
   "cell_type": "markdown",
   "metadata": {},
   "source": [
    "We still have some missing values. Our hypothetical buyer wants to buy something with at least 2 bedrooms so next let's drop condos with less than 2 bedrooms from our data. We can do this by subsetting our dataframe to only items where the value in BEDRM >= 2. We then assign that to a variable we can call. By re-using our variable df, we are overwriting the data we are already referencing it with."
   ]
  },
  {
   "cell_type": "code",
   "execution_count": 17,
   "metadata": {
    "collapsed": true
   },
   "outputs": [],
   "source": [
    "df = df[df.BEDRM >= 2.0]"
   ]
  },
  {
   "cell_type": "code",
   "execution_count": 18,
   "metadata": {},
   "outputs": [
    {
     "name": "stdout",
     "output_type": "stream",
     "text": [
      "<class 'pandas.core.frame.DataFrame'>\n",
      "Int64Index: 21603 entries, 0 to 52953\n",
      "Data columns (total 18 columns):\n",
      "SSL           21603 non-null object\n",
      "BLDG_NUM      21603 non-null int64\n",
      "CMPLX_NUM     21603 non-null int64\n",
      "AYB           21603 non-null int64\n",
      "YR_RMDL       12197 non-null float64\n",
      "EYB           21603 non-null int64\n",
      "ROOMS         21592 non-null float64\n",
      "BEDRM         21603 non-null float64\n",
      "BATHRM        21603 non-null float64\n",
      "HF_BATHRM     21558 non-null float64\n",
      "HEAT          21602 non-null float64\n",
      "HEAT_D        21602 non-null object\n",
      "AC            21602 non-null object\n",
      "FIREPLACES    21524 non-null float64\n",
      "SALEDATE      21603 non-null datetime64[ns]\n",
      "PRICE         21603 non-null float64\n",
      "SALE_NUM      21603 non-null int64\n",
      "LIVING_GBA    21603 non-null int64\n",
      "dtypes: datetime64[ns](1), float64(8), int64(6), object(3)\n",
      "memory usage: 3.1+ MB\n"
     ]
    }
   ],
   "source": [
    "df.info()"
   ]
  },
  {
   "cell_type": "markdown",
   "metadata": {},
   "source": [
    "Next let's look at the column YR_RMDL. There are also a lot of null values and we have no meaningful way to impute them. Let's drop this column.\n",
    "\n",
    "Our buyer isn't really concerned with the overall number of rooms as long as the condo has 2 bedrooms so we can drop that column as well. "
   ]
  },
  {
   "cell_type": "code",
   "execution_count": 19,
   "metadata": {
    "collapsed": true
   },
   "outputs": [],
   "source": [
    "df.drop(['YR_RMDL', 'ROOMS'], axis=1, inplace=True)"
   ]
  },
  {
   "cell_type": "code",
   "execution_count": 20,
   "metadata": {},
   "outputs": [
    {
     "name": "stdout",
     "output_type": "stream",
     "text": [
      "<class 'pandas.core.frame.DataFrame'>\n",
      "Int64Index: 21603 entries, 0 to 52953\n",
      "Data columns (total 16 columns):\n",
      "SSL           21603 non-null object\n",
      "BLDG_NUM      21603 non-null int64\n",
      "CMPLX_NUM     21603 non-null int64\n",
      "AYB           21603 non-null int64\n",
      "EYB           21603 non-null int64\n",
      "BEDRM         21603 non-null float64\n",
      "BATHRM        21603 non-null float64\n",
      "HF_BATHRM     21558 non-null float64\n",
      "HEAT          21602 non-null float64\n",
      "HEAT_D        21602 non-null object\n",
      "AC            21602 non-null object\n",
      "FIREPLACES    21524 non-null float64\n",
      "SALEDATE      21603 non-null datetime64[ns]\n",
      "PRICE         21603 non-null float64\n",
      "SALE_NUM      21603 non-null int64\n",
      "LIVING_GBA    21603 non-null int64\n",
      "dtypes: datetime64[ns](1), float64(6), int64(6), object(3)\n",
      "memory usage: 2.8+ MB\n"
     ]
    }
   ],
   "source": [
    "df.info()"
   ]
  },
  {
   "cell_type": "markdown",
   "metadata": {},
   "source": [
    "HF_BATHRM and FIREPLACES also contain null values. However, instead of dropping those columns, let's assume a null value is equivalent to 0. We can use fillna to change all our null values to 0. We can address HEAT and HEAT_D later if we decide to use those in our regression."
   ]
  },
  {
   "cell_type": "code",
   "execution_count": 21,
   "metadata": {
    "collapsed": true
   },
   "outputs": [],
   "source": [
    "df.fillna(0, inplace=True)"
   ]
  },
  {
   "cell_type": "code",
   "execution_count": 22,
   "metadata": {},
   "outputs": [
    {
     "name": "stdout",
     "output_type": "stream",
     "text": [
      "<class 'pandas.core.frame.DataFrame'>\n",
      "Int64Index: 21603 entries, 0 to 52953\n",
      "Data columns (total 16 columns):\n",
      "SSL           21603 non-null object\n",
      "BLDG_NUM      21603 non-null int64\n",
      "CMPLX_NUM     21603 non-null int64\n",
      "AYB           21603 non-null int64\n",
      "EYB           21603 non-null int64\n",
      "BEDRM         21603 non-null float64\n",
      "BATHRM        21603 non-null float64\n",
      "HF_BATHRM     21603 non-null float64\n",
      "HEAT          21603 non-null float64\n",
      "HEAT_D        21603 non-null object\n",
      "AC            21603 non-null object\n",
      "FIREPLACES    21603 non-null float64\n",
      "SALEDATE      21603 non-null datetime64[ns]\n",
      "PRICE         21603 non-null float64\n",
      "SALE_NUM      21603 non-null int64\n",
      "LIVING_GBA    21603 non-null int64\n",
      "dtypes: datetime64[ns](1), float64(6), int64(6), object(3)\n",
      "memory usage: 2.8+ MB\n"
     ]
    }
   ],
   "source": [
    "df.info()"
   ]
  },
  {
   "cell_type": "markdown",
   "metadata": {},
   "source": [
    "Our buyer wants to live in Ward 6. How can we figure out which of the condos are located there? SSL (square suffix and lot) actually gives us a key to do that. We can determine the address from SSL. Once we have the address, we can get additional useful information including Ward. \n",
    "\n",
    "Let's start with the address.\n",
    "\n",
    "[Address Residential Units](http://opendata.dc.gov/datasets/address-residential-units): This table contains residential units and attributes of Address points, created as part of the Master Address Repository (MAR) for the D.C. Residential units can be condominiums or also apartments. Office of the Chief Technology Officer (OCTO) and DC Department of Consumer and Regulatory Affairs . It contains the addresses in the District of Columbia which are typically placed on the buildings. More information on the MAR can be found at http://dcgis.dc.gov.\n",
    "\n",
    "We can download this data using our get_data function then read it into a dataframe, just like with our CAMA data."
   ]
  },
  {
   "cell_type": "code",
   "execution_count": 23,
   "metadata": {
    "collapsed": true
   },
   "outputs": [],
   "source": [
    "aru_url = \"https://opendata.arcgis.com/datasets/c3c0ae91dca54c5d9ce56962fa0dd645_68.csv\"\n",
    "aru_file = os.path.join(DATA_DIR, \"address_residential_unit.csv\")"
   ]
  },
  {
   "cell_type": "code",
   "execution_count": 24,
   "metadata": {},
   "outputs": [
    {
     "name": "stdout",
     "output_type": "stream",
     "text": [
      "directory exists\n",
      "file exists\n"
     ]
    }
   ],
   "source": [
    "get_data(DATA_DIR, aru_url, aru_file)"
   ]
  },
  {
   "cell_type": "code",
   "execution_count": 25,
   "metadata": {
    "collapsed": true
   },
   "outputs": [],
   "source": [
    "aru_df = pd.read_csv(aru_file)"
   ]
  },
  {
   "cell_type": "code",
   "execution_count": 26,
   "metadata": {
    "scrolled": true
   },
   "outputs": [
    {
     "data": {
      "text/html": [
       "<div>\n",
       "<style>\n",
       "    .dataframe thead tr:only-child th {\n",
       "        text-align: right;\n",
       "    }\n",
       "\n",
       "    .dataframe thead th {\n",
       "        text-align: left;\n",
       "    }\n",
       "\n",
       "    .dataframe tbody tr th {\n",
       "        vertical-align: top;\n",
       "    }\n",
       "</style>\n",
       "<table border=\"1\" class=\"dataframe\">\n",
       "  <thead>\n",
       "    <tr style=\"text-align: right;\">\n",
       "      <th></th>\n",
       "      <th>OBJECTID</th>\n",
       "      <th>UNIT_ID</th>\n",
       "      <th>ADDRESS_ID</th>\n",
       "      <th>FULLADDRESS</th>\n",
       "      <th>SSL</th>\n",
       "      <th>STATUS</th>\n",
       "      <th>UNITNUM</th>\n",
       "      <th>UNITTYPE</th>\n",
       "      <th>METADATA_ID</th>\n",
       "    </tr>\n",
       "  </thead>\n",
       "  <tbody>\n",
       "    <tr>\n",
       "      <th>0</th>\n",
       "      <td>1</td>\n",
       "      <td>1271</td>\n",
       "      <td>145743</td>\n",
       "      <td>2017 37TH STREET SE</td>\n",
       "      <td>5671    2022</td>\n",
       "      <td>ACTIVE</td>\n",
       "      <td>102</td>\n",
       "      <td>CONDO</td>\n",
       "      <td>316669</td>\n",
       "    </tr>\n",
       "    <tr>\n",
       "      <th>1</th>\n",
       "      <td>2</td>\n",
       "      <td>1272</td>\n",
       "      <td>145743</td>\n",
       "      <td>2017 37TH STREET SE</td>\n",
       "      <td>5671    2023</td>\n",
       "      <td>ACTIVE</td>\n",
       "      <td>201</td>\n",
       "      <td>CONDO</td>\n",
       "      <td>316670</td>\n",
       "    </tr>\n",
       "    <tr>\n",
       "      <th>2</th>\n",
       "      <td>3</td>\n",
       "      <td>1273</td>\n",
       "      <td>145743</td>\n",
       "      <td>2017 37TH STREET SE</td>\n",
       "      <td>5671    2024</td>\n",
       "      <td>ACTIVE</td>\n",
       "      <td>202</td>\n",
       "      <td>CONDO</td>\n",
       "      <td>316671</td>\n",
       "    </tr>\n",
       "    <tr>\n",
       "      <th>3</th>\n",
       "      <td>4</td>\n",
       "      <td>1274</td>\n",
       "      <td>145743</td>\n",
       "      <td>2017 37TH STREET SE</td>\n",
       "      <td>5671    2025</td>\n",
       "      <td>ACTIVE</td>\n",
       "      <td>301</td>\n",
       "      <td>CONDO</td>\n",
       "      <td>316672</td>\n",
       "    </tr>\n",
       "    <tr>\n",
       "      <th>4</th>\n",
       "      <td>5</td>\n",
       "      <td>1275</td>\n",
       "      <td>145743</td>\n",
       "      <td>2017 37TH STREET SE</td>\n",
       "      <td>5671    2026</td>\n",
       "      <td>ACTIVE</td>\n",
       "      <td>302</td>\n",
       "      <td>CONDO</td>\n",
       "      <td>316673</td>\n",
       "    </tr>\n",
       "  </tbody>\n",
       "</table>\n",
       "</div>"
      ],
      "text/plain": [
       "   OBJECTID  UNIT_ID  ADDRESS_ID          FULLADDRESS           SSL  STATUS  \\\n",
       "0         1     1271      145743  2017 37TH STREET SE  5671    2022  ACTIVE   \n",
       "1         2     1272      145743  2017 37TH STREET SE  5671    2023  ACTIVE   \n",
       "2         3     1273      145743  2017 37TH STREET SE  5671    2024  ACTIVE   \n",
       "3         4     1274      145743  2017 37TH STREET SE  5671    2025  ACTIVE   \n",
       "4         5     1275      145743  2017 37TH STREET SE  5671    2026  ACTIVE   \n",
       "\n",
       "  UNITNUM UNITTYPE  METADATA_ID  \n",
       "0     102    CONDO       316669  \n",
       "1     201    CONDO       316670  \n",
       "2     202    CONDO       316671  \n",
       "3     301    CONDO       316672  \n",
       "4     302    CONDO       316673  "
      ]
     },
     "execution_count": 26,
     "metadata": {},
     "output_type": "execute_result"
    }
   ],
   "source": [
    "aru_df.head()"
   ]
  },
  {
   "cell_type": "code",
   "execution_count": 27,
   "metadata": {},
   "outputs": [
    {
     "data": {
      "text/plain": [
       "(235494, 9)"
      ]
     },
     "execution_count": 27,
     "metadata": {},
     "output_type": "execute_result"
    }
   ],
   "source": [
    "aru_df.shape"
   ]
  },
  {
   "cell_type": "code",
   "execution_count": 28,
   "metadata": {},
   "outputs": [
    {
     "name": "stdout",
     "output_type": "stream",
     "text": [
      "<class 'pandas.core.frame.DataFrame'>\n",
      "RangeIndex: 235494 entries, 0 to 235493\n",
      "Data columns (total 9 columns):\n",
      "OBJECTID       235494 non-null int64\n",
      "UNIT_ID        235494 non-null int64\n",
      "ADDRESS_ID     235494 non-null int64\n",
      "FULLADDRESS    229822 non-null object\n",
      "SSL            55718 non-null object\n",
      "STATUS         235494 non-null object\n",
      "UNITNUM        235494 non-null object\n",
      "UNITTYPE       235494 non-null object\n",
      "METADATA_ID    235494 non-null int64\n",
      "dtypes: int64(4), object(5)\n",
      "memory usage: 16.2+ MB\n"
     ]
    }
   ],
   "source": [
    "aru_df.info()"
   ]
  },
  {
   "cell_type": "markdown",
   "metadata": {},
   "source": [
    "SSL is common to both our datasets. Unfortunately, we seem to have a lot of null values in SSL in the address data. How many matches do we have between the two? There is a way to easily check that."
   ]
  },
  {
   "cell_type": "code",
   "execution_count": 29,
   "metadata": {},
   "outputs": [
    {
     "data": {
      "text/plain": [
       "True     19591\n",
       "False     2012\n",
       "Name: SSL, dtype: int64"
      ]
     },
     "execution_count": 29,
     "metadata": {},
     "output_type": "execute_result"
    }
   ],
   "source": [
    "df['SSL'].isin(aru_df['SSL']).value_counts()"
   ]
  },
  {
   "cell_type": "markdown",
   "metadata": {},
   "source": [
    "pandas gives us a way to connect dataframes with merge. Here we are creating a third dataframe, condos, by merging our initial dataframe, df, with our address dataframe, aru_df. We also tell pandas that SSL is the common information between the two dataframes. By default, pandas performs an [inner join](https://www.codeproject.com/Articles/33052/Visual-Representation-of-SQL-Joins). You could also use a [left, right, or outer](https://pandas.pydata.org/pandas-docs/stable/generated/pandas.DataFrame.merge.html) join."
   ]
  },
  {
   "cell_type": "code",
   "execution_count": 30,
   "metadata": {
    "collapsed": true
   },
   "outputs": [],
   "source": [
    "condos = pd.merge(df, aru_df, on='SSL')"
   ]
  },
  {
   "cell_type": "code",
   "execution_count": 31,
   "metadata": {},
   "outputs": [
    {
     "data": {
      "text/plain": [
       "(19591, 24)"
      ]
     },
     "execution_count": 31,
     "metadata": {},
     "output_type": "execute_result"
    }
   ],
   "source": [
    "condos.shape"
   ]
  },
  {
   "cell_type": "code",
   "execution_count": 32,
   "metadata": {},
   "outputs": [
    {
     "data": {
      "text/html": [
       "<div>\n",
       "<style>\n",
       "    .dataframe thead tr:only-child th {\n",
       "        text-align: right;\n",
       "    }\n",
       "\n",
       "    .dataframe thead th {\n",
       "        text-align: left;\n",
       "    }\n",
       "\n",
       "    .dataframe tbody tr th {\n",
       "        vertical-align: top;\n",
       "    }\n",
       "</style>\n",
       "<table border=\"1\" class=\"dataframe\">\n",
       "  <thead>\n",
       "    <tr style=\"text-align: right;\">\n",
       "      <th></th>\n",
       "      <th>SSL</th>\n",
       "      <th>BLDG_NUM</th>\n",
       "      <th>CMPLX_NUM</th>\n",
       "      <th>AYB</th>\n",
       "      <th>EYB</th>\n",
       "      <th>BEDRM</th>\n",
       "      <th>BATHRM</th>\n",
       "      <th>HF_BATHRM</th>\n",
       "      <th>HEAT</th>\n",
       "      <th>HEAT_D</th>\n",
       "      <th>AC</th>\n",
       "      <th>FIREPLACES</th>\n",
       "      <th>SALEDATE</th>\n",
       "      <th>PRICE</th>\n",
       "      <th>SALE_NUM</th>\n",
       "      <th>LIVING_GBA</th>\n",
       "      <th>OBJECTID</th>\n",
       "      <th>UNIT_ID</th>\n",
       "      <th>ADDRESS_ID</th>\n",
       "      <th>FULLADDRESS</th>\n",
       "      <th>STATUS</th>\n",
       "      <th>UNITNUM</th>\n",
       "      <th>UNITTYPE</th>\n",
       "      <th>METADATA_ID</th>\n",
       "    </tr>\n",
       "  </thead>\n",
       "  <tbody>\n",
       "    <tr>\n",
       "      <th>0</th>\n",
       "      <td>5763    2009</td>\n",
       "      <td>1</td>\n",
       "      <td>1481</td>\n",
       "      <td>1965</td>\n",
       "      <td>2002</td>\n",
       "      <td>2.0</td>\n",
       "      <td>1.0</td>\n",
       "      <td>0.0</td>\n",
       "      <td>3.0</td>\n",
       "      <td>Wall Furnace</td>\n",
       "      <td>Y</td>\n",
       "      <td>0.0</td>\n",
       "      <td>2007-06-11</td>\n",
       "      <td>145000.0</td>\n",
       "      <td>1</td>\n",
       "      <td>715</td>\n",
       "      <td>25533</td>\n",
       "      <td>24432</td>\n",
       "      <td>145293</td>\n",
       "      <td>1907 GOOD HOPE ROAD SE</td>\n",
       "      <td>ACTIVE</td>\n",
       "      <td>10</td>\n",
       "      <td>CONDO</td>\n",
       "      <td>339830</td>\n",
       "    </tr>\n",
       "    <tr>\n",
       "      <th>1</th>\n",
       "      <td>5763    2011</td>\n",
       "      <td>1</td>\n",
       "      <td>1481</td>\n",
       "      <td>1965</td>\n",
       "      <td>2002</td>\n",
       "      <td>2.0</td>\n",
       "      <td>1.0</td>\n",
       "      <td>0.0</td>\n",
       "      <td>3.0</td>\n",
       "      <td>Wall Furnace</td>\n",
       "      <td>Y</td>\n",
       "      <td>0.0</td>\n",
       "      <td>2005-08-16</td>\n",
       "      <td>126000.0</td>\n",
       "      <td>1</td>\n",
       "      <td>688</td>\n",
       "      <td>25535</td>\n",
       "      <td>24434</td>\n",
       "      <td>145293</td>\n",
       "      <td>1907 GOOD HOPE ROAD SE</td>\n",
       "      <td>ACTIVE</td>\n",
       "      <td>102</td>\n",
       "      <td>CONDO</td>\n",
       "      <td>339832</td>\n",
       "    </tr>\n",
       "    <tr>\n",
       "      <th>2</th>\n",
       "      <td>5763    2012</td>\n",
       "      <td>1</td>\n",
       "      <td>1481</td>\n",
       "      <td>1965</td>\n",
       "      <td>2002</td>\n",
       "      <td>2.0</td>\n",
       "      <td>1.0</td>\n",
       "      <td>0.0</td>\n",
       "      <td>3.0</td>\n",
       "      <td>Wall Furnace</td>\n",
       "      <td>Y</td>\n",
       "      <td>0.0</td>\n",
       "      <td>2002-05-21</td>\n",
       "      <td>80995.0</td>\n",
       "      <td>1</td>\n",
       "      <td>698</td>\n",
       "      <td>27127</td>\n",
       "      <td>22846</td>\n",
       "      <td>145293</td>\n",
       "      <td>1907 GOOD HOPE ROAD SE</td>\n",
       "      <td>ACTIVE</td>\n",
       "      <td>103</td>\n",
       "      <td>CONDO</td>\n",
       "      <td>338244</td>\n",
       "    </tr>\n",
       "    <tr>\n",
       "      <th>3</th>\n",
       "      <td>5763    2018</td>\n",
       "      <td>1</td>\n",
       "      <td>1481</td>\n",
       "      <td>1965</td>\n",
       "      <td>2002</td>\n",
       "      <td>2.0</td>\n",
       "      <td>1.0</td>\n",
       "      <td>0.0</td>\n",
       "      <td>3.0</td>\n",
       "      <td>Wall Furnace</td>\n",
       "      <td>Y</td>\n",
       "      <td>0.0</td>\n",
       "      <td>2010-04-22</td>\n",
       "      <td>22000.0</td>\n",
       "      <td>1</td>\n",
       "      <td>652</td>\n",
       "      <td>33068</td>\n",
       "      <td>22852</td>\n",
       "      <td>145293</td>\n",
       "      <td>1907 GOOD HOPE ROAD SE</td>\n",
       "      <td>ACTIVE</td>\n",
       "      <td>109</td>\n",
       "      <td>CONDO</td>\n",
       "      <td>338250</td>\n",
       "    </tr>\n",
       "    <tr>\n",
       "      <th>4</th>\n",
       "      <td>5763    2019</td>\n",
       "      <td>1</td>\n",
       "      <td>1481</td>\n",
       "      <td>1965</td>\n",
       "      <td>2002</td>\n",
       "      <td>2.0</td>\n",
       "      <td>1.0</td>\n",
       "      <td>0.0</td>\n",
       "      <td>3.0</td>\n",
       "      <td>Wall Furnace</td>\n",
       "      <td>Y</td>\n",
       "      <td>0.0</td>\n",
       "      <td>2017-11-01</td>\n",
       "      <td>72190.0</td>\n",
       "      <td>3</td>\n",
       "      <td>715</td>\n",
       "      <td>21946</td>\n",
       "      <td>23434</td>\n",
       "      <td>145293</td>\n",
       "      <td>1907 GOOD HOPE ROAD SE</td>\n",
       "      <td>ACTIVE</td>\n",
       "      <td>110</td>\n",
       "      <td>CONDO</td>\n",
       "      <td>338832</td>\n",
       "    </tr>\n",
       "  </tbody>\n",
       "</table>\n",
       "</div>"
      ],
      "text/plain": [
       "            SSL  BLDG_NUM  CMPLX_NUM   AYB   EYB  BEDRM  BATHRM  HF_BATHRM  \\\n",
       "0  5763    2009         1       1481  1965  2002    2.0     1.0        0.0   \n",
       "1  5763    2011         1       1481  1965  2002    2.0     1.0        0.0   \n",
       "2  5763    2012         1       1481  1965  2002    2.0     1.0        0.0   \n",
       "3  5763    2018         1       1481  1965  2002    2.0     1.0        0.0   \n",
       "4  5763    2019         1       1481  1965  2002    2.0     1.0        0.0   \n",
       "\n",
       "   HEAT        HEAT_D AC  FIREPLACES   SALEDATE     PRICE  SALE_NUM  \\\n",
       "0   3.0  Wall Furnace  Y         0.0 2007-06-11  145000.0         1   \n",
       "1   3.0  Wall Furnace  Y         0.0 2005-08-16  126000.0         1   \n",
       "2   3.0  Wall Furnace  Y         0.0 2002-05-21   80995.0         1   \n",
       "3   3.0  Wall Furnace  Y         0.0 2010-04-22   22000.0         1   \n",
       "4   3.0  Wall Furnace  Y         0.0 2017-11-01   72190.0         3   \n",
       "\n",
       "   LIVING_GBA  OBJECTID  UNIT_ID  ADDRESS_ID             FULLADDRESS  STATUS  \\\n",
       "0         715     25533    24432      145293  1907 GOOD HOPE ROAD SE  ACTIVE   \n",
       "1         688     25535    24434      145293  1907 GOOD HOPE ROAD SE  ACTIVE   \n",
       "2         698     27127    22846      145293  1907 GOOD HOPE ROAD SE  ACTIVE   \n",
       "3         652     33068    22852      145293  1907 GOOD HOPE ROAD SE  ACTIVE   \n",
       "4         715     21946    23434      145293  1907 GOOD HOPE ROAD SE  ACTIVE   \n",
       "\n",
       "  UNITNUM UNITTYPE  METADATA_ID  \n",
       "0      10    CONDO       339830  \n",
       "1     102    CONDO       339832  \n",
       "2     103    CONDO       338244  \n",
       "3     109    CONDO       338250  \n",
       "4     110    CONDO       338832  "
      ]
     },
     "execution_count": 32,
     "metadata": {},
     "output_type": "execute_result"
    }
   ],
   "source": [
    "condos.head()"
   ]
  },
  {
   "cell_type": "code",
   "execution_count": 33,
   "metadata": {},
   "outputs": [
    {
     "name": "stdout",
     "output_type": "stream",
     "text": [
      "<class 'pandas.core.frame.DataFrame'>\n",
      "Int64Index: 19591 entries, 0 to 19590\n",
      "Data columns (total 24 columns):\n",
      "SSL            19591 non-null object\n",
      "BLDG_NUM       19591 non-null int64\n",
      "CMPLX_NUM      19591 non-null int64\n",
      "AYB            19591 non-null int64\n",
      "EYB            19591 non-null int64\n",
      "BEDRM          19591 non-null float64\n",
      "BATHRM         19591 non-null float64\n",
      "HF_BATHRM      19591 non-null float64\n",
      "HEAT           19591 non-null float64\n",
      "HEAT_D         19591 non-null object\n",
      "AC             19591 non-null object\n",
      "FIREPLACES     19591 non-null float64\n",
      "SALEDATE       19591 non-null datetime64[ns]\n",
      "PRICE          19591 non-null float64\n",
      "SALE_NUM       19591 non-null int64\n",
      "LIVING_GBA     19591 non-null int64\n",
      "OBJECTID       19591 non-null int64\n",
      "UNIT_ID        19591 non-null int64\n",
      "ADDRESS_ID     19591 non-null int64\n",
      "FULLADDRESS    19591 non-null object\n",
      "STATUS         19591 non-null object\n",
      "UNITNUM        19591 non-null object\n",
      "UNITTYPE       19591 non-null object\n",
      "METADATA_ID    19591 non-null int64\n",
      "dtypes: datetime64[ns](1), float64(6), int64(10), object(7)\n",
      "memory usage: 3.7+ MB\n"
     ]
    }
   ],
   "source": [
    "condos.info()"
   ]
  },
  {
   "cell_type": "markdown",
   "metadata": {},
   "source": [
    "Another useful thing we can look at is what values exist in our data, and how many times they occur in a particular column.\n"
   ]
  },
  {
   "cell_type": "code",
   "execution_count": 34,
   "metadata": {},
   "outputs": [
    {
     "name": "stdout",
     "output_type": "stream",
     "text": [
      "CONDO    19591\n",
      "Name: UNITTYPE, dtype: int64\n",
      "\n",
      "\n",
      "ACTIVE    19563\n",
      "RETIRE       28\n",
      "Name: STATUS, dtype: int64\n"
     ]
    }
   ],
   "source": [
    "print(condos.UNITTYPE.value_counts())\n",
    "print('\\n')\n",
    "print(condos.STATUS.value_counts())"
   ]
  },
  {
   "cell_type": "markdown",
   "metadata": {},
   "source": [
    "Our dataset didn't come with all that much information about it. Let's make the assumption we only want items that are ACTIVE. Then let's drop some columns we don't need."
   ]
  },
  {
   "cell_type": "code",
   "execution_count": 35,
   "metadata": {
    "collapsed": true
   },
   "outputs": [],
   "source": [
    "condos = condos[condos.STATUS != 'RETIRE']"
   ]
  },
  {
   "cell_type": "code",
   "execution_count": 36,
   "metadata": {
    "collapsed": true
   },
   "outputs": [],
   "source": [
    "condos.drop(['OBJECTID', 'STATUS', 'UNITTYPE', 'METADATA_ID'], axis=1, inplace=True)"
   ]
  },
  {
   "cell_type": "code",
   "execution_count": 37,
   "metadata": {},
   "outputs": [
    {
     "name": "stdout",
     "output_type": "stream",
     "text": [
      "<class 'pandas.core.frame.DataFrame'>\n",
      "Int64Index: 19563 entries, 0 to 19590\n",
      "Data columns (total 20 columns):\n",
      "SSL            19563 non-null object\n",
      "BLDG_NUM       19563 non-null int64\n",
      "CMPLX_NUM      19563 non-null int64\n",
      "AYB            19563 non-null int64\n",
      "EYB            19563 non-null int64\n",
      "BEDRM          19563 non-null float64\n",
      "BATHRM         19563 non-null float64\n",
      "HF_BATHRM      19563 non-null float64\n",
      "HEAT           19563 non-null float64\n",
      "HEAT_D         19563 non-null object\n",
      "AC             19563 non-null object\n",
      "FIREPLACES     19563 non-null float64\n",
      "SALEDATE       19563 non-null datetime64[ns]\n",
      "PRICE          19563 non-null float64\n",
      "SALE_NUM       19563 non-null int64\n",
      "LIVING_GBA     19563 non-null int64\n",
      "UNIT_ID        19563 non-null int64\n",
      "ADDRESS_ID     19563 non-null int64\n",
      "FULLADDRESS    19563 non-null object\n",
      "UNITNUM        19563 non-null object\n",
      "dtypes: datetime64[ns](1), float64(6), int64(8), object(5)\n",
      "memory usage: 3.1+ MB\n"
     ]
    }
   ],
   "source": [
    "condos.info()"
   ]
  },
  {
   "cell_type": "markdown",
   "metadata": {},
   "source": [
    "At this point we have addresses for our units, but we don't know what Ward the addresses are in. The address dataset gave us an important bit of inforamation though. DC has a [Master Address Repository(MAR)](https://octo.dc.gov/node/1161947). And in the MAR [user guide](https://octo.dc.gov/sites/default/files/dc/sites/octo/publication/attachments/DCGIS-MARGeocoderUserGuide_1.pdf) we see that we can get the Ward and a lot of other interesting things from the MAR. Unfortunately, the MAR application is only available for Windows 7 and 10.\n",
    "\n",
    "In order to add the MAR information to our data, we can process our addresses via Access or Excel and run it as a batch in the MAR encoder application. We currently have 19,563 condo units in our dataset. But since these are condo units, the number of unique addresses is actually lower than that. We will create a dataframe with our unique addresses, save those to an Excel file, and only process those addresses with the MAR application. \n",
    "\n",
    "I have done that separately and have included the resulting MAR encoded file in the github repo. I have included the steps here to create an Excel file with the unique addresses. If you would like to do this as well, you can change the commented markdown cell below to a code cell and run it. We will need the mar_file variable later so run that bit of code regardless. "
   ]
  },
  {
   "cell_type": "code",
   "execution_count": 38,
   "metadata": {
    "collapsed": true
   },
   "outputs": [],
   "source": [
    "# create a variable with the path/name of the file that will contain your unique address list\n",
    "mar_file = os.path.join(DATA_DIR, \"addresses.xlsx\")"
   ]
  },
  {
   "cell_type": "markdown",
   "metadata": {
    "collapsed": true
   },
   "source": [
    "```\n",
    "# change this cell if you would like to perform the MAR encoding steps yourself\n",
    "\n",
    "# create a writer object for the excel file\n",
    "writer = pd.ExcelWriter(mar_file)\n",
    "\n",
    "# create a dataframe that is just the unique addresses from our condos dataframe\n",
    "addresses = pd.DataFrame(condos['FULLADDRESS'].unique(), columns=['full_address'])\n",
    "\n",
    "# write the dataframe to excel and save the file\n",
    "addresses.to_excel(writer, index=False)\n",
    "writer.save()```"
   ]
  },
  {
   "cell_type": "markdown",
   "metadata": {},
   "source": [
    "Information on the options for the MAR encoder are found in its documention. When I ran the unique address list, it took about 5 minutes. \n",
    "\n",
    "We can read the MAR encoded data back into a dataframe and join the data to our condos dataframe.\n"
   ]
  },
  {
   "cell_type": "code",
   "execution_count": 39,
   "metadata": {
    "collapsed": true
   },
   "outputs": [],
   "source": [
    "mar = pd.read_excel(mar_file)"
   ]
  },
  {
   "cell_type": "code",
   "execution_count": 40,
   "metadata": {},
   "outputs": [
    {
     "name": "stdout",
     "output_type": "stream",
     "text": [
      "<class 'pandas.core.frame.DataFrame'>\n",
      "RangeIndex: 3402 entries, 0 to 3401\n",
      "Data columns (total 14 columns):\n",
      "full_address           3402 non-null object\n",
      "MAR_MATCHADDRESS       3402 non-null object\n",
      "MAR_XCOORD             3402 non-null float64\n",
      "MAR_YCOORD             3402 non-null float64\n",
      "MAR_LATITUDE           3402 non-null float64\n",
      "MAR_LONGITUDE          3402 non-null float64\n",
      "MAR_WARD               3402 non-null object\n",
      "MAR_CENSUS_TRACT       3402 non-null int64\n",
      "MAR_ZIPCODE            3402 non-null int64\n",
      "MARID                  3402 non-null int64\n",
      "MAR_ERROR              0 non-null float64\n",
      "MAR_SCORE              3402 non-null int64\n",
      "MAR_SOURCEOPERATION    3402 non-null object\n",
      "MAR_IGNORE             0 non-null float64\n",
      "dtypes: float64(6), int64(4), object(4)\n",
      "memory usage: 372.2+ KB\n"
     ]
    }
   ],
   "source": [
    "mar.info()"
   ]
  },
  {
   "cell_type": "code",
   "execution_count": 41,
   "metadata": {
    "collapsed": true
   },
   "outputs": [],
   "source": [
    "condos = pd.merge(condos, mar, left_on='FULLADDRESS',  right_on='full_address')"
   ]
  },
  {
   "cell_type": "code",
   "execution_count": 42,
   "metadata": {},
   "outputs": [
    {
     "data": {
      "text/plain": [
       "(19563, 34)"
      ]
     },
     "execution_count": 42,
     "metadata": {},
     "output_type": "execute_result"
    }
   ],
   "source": [
    "condos.shape"
   ]
  },
  {
   "cell_type": "code",
   "execution_count": 43,
   "metadata": {},
   "outputs": [
    {
     "data": {
      "text/html": [
       "<div>\n",
       "<style>\n",
       "    .dataframe thead tr:only-child th {\n",
       "        text-align: right;\n",
       "    }\n",
       "\n",
       "    .dataframe thead th {\n",
       "        text-align: left;\n",
       "    }\n",
       "\n",
       "    .dataframe tbody tr th {\n",
       "        vertical-align: top;\n",
       "    }\n",
       "</style>\n",
       "<table border=\"1\" class=\"dataframe\">\n",
       "  <thead>\n",
       "    <tr style=\"text-align: right;\">\n",
       "      <th></th>\n",
       "      <th>SSL</th>\n",
       "      <th>BLDG_NUM</th>\n",
       "      <th>CMPLX_NUM</th>\n",
       "      <th>AYB</th>\n",
       "      <th>EYB</th>\n",
       "      <th>BEDRM</th>\n",
       "      <th>BATHRM</th>\n",
       "      <th>HF_BATHRM</th>\n",
       "      <th>HEAT</th>\n",
       "      <th>HEAT_D</th>\n",
       "      <th>AC</th>\n",
       "      <th>FIREPLACES</th>\n",
       "      <th>SALEDATE</th>\n",
       "      <th>PRICE</th>\n",
       "      <th>SALE_NUM</th>\n",
       "      <th>LIVING_GBA</th>\n",
       "      <th>UNIT_ID</th>\n",
       "      <th>ADDRESS_ID</th>\n",
       "      <th>FULLADDRESS</th>\n",
       "      <th>UNITNUM</th>\n",
       "      <th>full_address</th>\n",
       "      <th>MAR_MATCHADDRESS</th>\n",
       "      <th>MAR_XCOORD</th>\n",
       "      <th>MAR_YCOORD</th>\n",
       "      <th>MAR_LATITUDE</th>\n",
       "      <th>MAR_LONGITUDE</th>\n",
       "      <th>MAR_WARD</th>\n",
       "      <th>MAR_CENSUS_TRACT</th>\n",
       "      <th>MAR_ZIPCODE</th>\n",
       "      <th>MARID</th>\n",
       "      <th>MAR_ERROR</th>\n",
       "      <th>MAR_SCORE</th>\n",
       "      <th>MAR_SOURCEOPERATION</th>\n",
       "      <th>MAR_IGNORE</th>\n",
       "    </tr>\n",
       "  </thead>\n",
       "  <tbody>\n",
       "    <tr>\n",
       "      <th>0</th>\n",
       "      <td>5763    2009</td>\n",
       "      <td>1</td>\n",
       "      <td>1481</td>\n",
       "      <td>1965</td>\n",
       "      <td>2002</td>\n",
       "      <td>2.0</td>\n",
       "      <td>1.0</td>\n",
       "      <td>0.0</td>\n",
       "      <td>3.0</td>\n",
       "      <td>Wall Furnace</td>\n",
       "      <td>Y</td>\n",
       "      <td>0.0</td>\n",
       "      <td>2007-06-11</td>\n",
       "      <td>145000.0</td>\n",
       "      <td>1</td>\n",
       "      <td>715</td>\n",
       "      <td>24432</td>\n",
       "      <td>145293</td>\n",
       "      <td>1907 GOOD HOPE ROAD SE</td>\n",
       "      <td>10</td>\n",
       "      <td>1907 GOOD HOPE ROAD SE</td>\n",
       "      <td>1907 GOOD HOPE ROAD SE</td>\n",
       "      <td>402002.58</td>\n",
       "      <td>132926.08</td>\n",
       "      <td>38.864152</td>\n",
       "      <td>-76.976925</td>\n",
       "      <td>Ward 8</td>\n",
       "      <td>7504</td>\n",
       "      <td>20020</td>\n",
       "      <td>145293</td>\n",
       "      <td>NaN</td>\n",
       "      <td>100</td>\n",
       "      <td>DC Address</td>\n",
       "      <td>NaN</td>\n",
       "    </tr>\n",
       "    <tr>\n",
       "      <th>1</th>\n",
       "      <td>5763    2011</td>\n",
       "      <td>1</td>\n",
       "      <td>1481</td>\n",
       "      <td>1965</td>\n",
       "      <td>2002</td>\n",
       "      <td>2.0</td>\n",
       "      <td>1.0</td>\n",
       "      <td>0.0</td>\n",
       "      <td>3.0</td>\n",
       "      <td>Wall Furnace</td>\n",
       "      <td>Y</td>\n",
       "      <td>0.0</td>\n",
       "      <td>2005-08-16</td>\n",
       "      <td>126000.0</td>\n",
       "      <td>1</td>\n",
       "      <td>688</td>\n",
       "      <td>24434</td>\n",
       "      <td>145293</td>\n",
       "      <td>1907 GOOD HOPE ROAD SE</td>\n",
       "      <td>102</td>\n",
       "      <td>1907 GOOD HOPE ROAD SE</td>\n",
       "      <td>1907 GOOD HOPE ROAD SE</td>\n",
       "      <td>402002.58</td>\n",
       "      <td>132926.08</td>\n",
       "      <td>38.864152</td>\n",
       "      <td>-76.976925</td>\n",
       "      <td>Ward 8</td>\n",
       "      <td>7504</td>\n",
       "      <td>20020</td>\n",
       "      <td>145293</td>\n",
       "      <td>NaN</td>\n",
       "      <td>100</td>\n",
       "      <td>DC Address</td>\n",
       "      <td>NaN</td>\n",
       "    </tr>\n",
       "    <tr>\n",
       "      <th>2</th>\n",
       "      <td>5763    2012</td>\n",
       "      <td>1</td>\n",
       "      <td>1481</td>\n",
       "      <td>1965</td>\n",
       "      <td>2002</td>\n",
       "      <td>2.0</td>\n",
       "      <td>1.0</td>\n",
       "      <td>0.0</td>\n",
       "      <td>3.0</td>\n",
       "      <td>Wall Furnace</td>\n",
       "      <td>Y</td>\n",
       "      <td>0.0</td>\n",
       "      <td>2002-05-21</td>\n",
       "      <td>80995.0</td>\n",
       "      <td>1</td>\n",
       "      <td>698</td>\n",
       "      <td>22846</td>\n",
       "      <td>145293</td>\n",
       "      <td>1907 GOOD HOPE ROAD SE</td>\n",
       "      <td>103</td>\n",
       "      <td>1907 GOOD HOPE ROAD SE</td>\n",
       "      <td>1907 GOOD HOPE ROAD SE</td>\n",
       "      <td>402002.58</td>\n",
       "      <td>132926.08</td>\n",
       "      <td>38.864152</td>\n",
       "      <td>-76.976925</td>\n",
       "      <td>Ward 8</td>\n",
       "      <td>7504</td>\n",
       "      <td>20020</td>\n",
       "      <td>145293</td>\n",
       "      <td>NaN</td>\n",
       "      <td>100</td>\n",
       "      <td>DC Address</td>\n",
       "      <td>NaN</td>\n",
       "    </tr>\n",
       "    <tr>\n",
       "      <th>3</th>\n",
       "      <td>5763    2018</td>\n",
       "      <td>1</td>\n",
       "      <td>1481</td>\n",
       "      <td>1965</td>\n",
       "      <td>2002</td>\n",
       "      <td>2.0</td>\n",
       "      <td>1.0</td>\n",
       "      <td>0.0</td>\n",
       "      <td>3.0</td>\n",
       "      <td>Wall Furnace</td>\n",
       "      <td>Y</td>\n",
       "      <td>0.0</td>\n",
       "      <td>2010-04-22</td>\n",
       "      <td>22000.0</td>\n",
       "      <td>1</td>\n",
       "      <td>652</td>\n",
       "      <td>22852</td>\n",
       "      <td>145293</td>\n",
       "      <td>1907 GOOD HOPE ROAD SE</td>\n",
       "      <td>109</td>\n",
       "      <td>1907 GOOD HOPE ROAD SE</td>\n",
       "      <td>1907 GOOD HOPE ROAD SE</td>\n",
       "      <td>402002.58</td>\n",
       "      <td>132926.08</td>\n",
       "      <td>38.864152</td>\n",
       "      <td>-76.976925</td>\n",
       "      <td>Ward 8</td>\n",
       "      <td>7504</td>\n",
       "      <td>20020</td>\n",
       "      <td>145293</td>\n",
       "      <td>NaN</td>\n",
       "      <td>100</td>\n",
       "      <td>DC Address</td>\n",
       "      <td>NaN</td>\n",
       "    </tr>\n",
       "    <tr>\n",
       "      <th>4</th>\n",
       "      <td>5763    2019</td>\n",
       "      <td>1</td>\n",
       "      <td>1481</td>\n",
       "      <td>1965</td>\n",
       "      <td>2002</td>\n",
       "      <td>2.0</td>\n",
       "      <td>1.0</td>\n",
       "      <td>0.0</td>\n",
       "      <td>3.0</td>\n",
       "      <td>Wall Furnace</td>\n",
       "      <td>Y</td>\n",
       "      <td>0.0</td>\n",
       "      <td>2017-11-01</td>\n",
       "      <td>72190.0</td>\n",
       "      <td>3</td>\n",
       "      <td>715</td>\n",
       "      <td>23434</td>\n",
       "      <td>145293</td>\n",
       "      <td>1907 GOOD HOPE ROAD SE</td>\n",
       "      <td>110</td>\n",
       "      <td>1907 GOOD HOPE ROAD SE</td>\n",
       "      <td>1907 GOOD HOPE ROAD SE</td>\n",
       "      <td>402002.58</td>\n",
       "      <td>132926.08</td>\n",
       "      <td>38.864152</td>\n",
       "      <td>-76.976925</td>\n",
       "      <td>Ward 8</td>\n",
       "      <td>7504</td>\n",
       "      <td>20020</td>\n",
       "      <td>145293</td>\n",
       "      <td>NaN</td>\n",
       "      <td>100</td>\n",
       "      <td>DC Address</td>\n",
       "      <td>NaN</td>\n",
       "    </tr>\n",
       "  </tbody>\n",
       "</table>\n",
       "</div>"
      ],
      "text/plain": [
       "            SSL  BLDG_NUM  CMPLX_NUM   AYB   EYB  BEDRM  BATHRM  HF_BATHRM  \\\n",
       "0  5763    2009         1       1481  1965  2002    2.0     1.0        0.0   \n",
       "1  5763    2011         1       1481  1965  2002    2.0     1.0        0.0   \n",
       "2  5763    2012         1       1481  1965  2002    2.0     1.0        0.0   \n",
       "3  5763    2018         1       1481  1965  2002    2.0     1.0        0.0   \n",
       "4  5763    2019         1       1481  1965  2002    2.0     1.0        0.0   \n",
       "\n",
       "   HEAT        HEAT_D AC  FIREPLACES   SALEDATE     PRICE  SALE_NUM  \\\n",
       "0   3.0  Wall Furnace  Y         0.0 2007-06-11  145000.0         1   \n",
       "1   3.0  Wall Furnace  Y         0.0 2005-08-16  126000.0         1   \n",
       "2   3.0  Wall Furnace  Y         0.0 2002-05-21   80995.0         1   \n",
       "3   3.0  Wall Furnace  Y         0.0 2010-04-22   22000.0         1   \n",
       "4   3.0  Wall Furnace  Y         0.0 2017-11-01   72190.0         3   \n",
       "\n",
       "   LIVING_GBA  UNIT_ID  ADDRESS_ID             FULLADDRESS UNITNUM  \\\n",
       "0         715    24432      145293  1907 GOOD HOPE ROAD SE      10   \n",
       "1         688    24434      145293  1907 GOOD HOPE ROAD SE     102   \n",
       "2         698    22846      145293  1907 GOOD HOPE ROAD SE     103   \n",
       "3         652    22852      145293  1907 GOOD HOPE ROAD SE     109   \n",
       "4         715    23434      145293  1907 GOOD HOPE ROAD SE     110   \n",
       "\n",
       "             full_address        MAR_MATCHADDRESS  MAR_XCOORD  MAR_YCOORD  \\\n",
       "0  1907 GOOD HOPE ROAD SE  1907 GOOD HOPE ROAD SE   402002.58   132926.08   \n",
       "1  1907 GOOD HOPE ROAD SE  1907 GOOD HOPE ROAD SE   402002.58   132926.08   \n",
       "2  1907 GOOD HOPE ROAD SE  1907 GOOD HOPE ROAD SE   402002.58   132926.08   \n",
       "3  1907 GOOD HOPE ROAD SE  1907 GOOD HOPE ROAD SE   402002.58   132926.08   \n",
       "4  1907 GOOD HOPE ROAD SE  1907 GOOD HOPE ROAD SE   402002.58   132926.08   \n",
       "\n",
       "   MAR_LATITUDE  MAR_LONGITUDE MAR_WARD  MAR_CENSUS_TRACT  MAR_ZIPCODE  \\\n",
       "0     38.864152     -76.976925   Ward 8              7504        20020   \n",
       "1     38.864152     -76.976925   Ward 8              7504        20020   \n",
       "2     38.864152     -76.976925   Ward 8              7504        20020   \n",
       "3     38.864152     -76.976925   Ward 8              7504        20020   \n",
       "4     38.864152     -76.976925   Ward 8              7504        20020   \n",
       "\n",
       "    MARID  MAR_ERROR  MAR_SCORE MAR_SOURCEOPERATION  MAR_IGNORE  \n",
       "0  145293        NaN        100          DC Address         NaN  \n",
       "1  145293        NaN        100          DC Address         NaN  \n",
       "2  145293        NaN        100          DC Address         NaN  \n",
       "3  145293        NaN        100          DC Address         NaN  \n",
       "4  145293        NaN        100          DC Address         NaN  "
      ]
     },
     "execution_count": 43,
     "metadata": {},
     "output_type": "execute_result"
    }
   ],
   "source": [
    "condos.head()"
   ]
  },
  {
   "cell_type": "code",
   "execution_count": 44,
   "metadata": {},
   "outputs": [
    {
     "data": {
      "text/plain": [
       "Ward 2    5057\n",
       "Ward 1    4742\n",
       "Ward 3    2726\n",
       "Ward 6    2640\n",
       "Ward 8    1326\n",
       "Ward 5    1314\n",
       "Ward 7     920\n",
       "Ward 4     838\n",
       "Name: MAR_WARD, dtype: int64"
      ]
     },
     "execution_count": 44,
     "metadata": {},
     "output_type": "execute_result"
    }
   ],
   "source": [
    "condos.MAR_WARD.value_counts()"
   ]
  },
  {
   "cell_type": "markdown",
   "metadata": {},
   "source": [
    "Now we have the Ward data we need. Let's create another dataframe, condo_6, that contains the condos for Ward 6. We will also drop some more columns we won't need. Let's keep MAR_CENSUS_TRACT in case we want to use that later."
   ]
  },
  {
   "cell_type": "code",
   "execution_count": 45,
   "metadata": {
    "collapsed": true
   },
   "outputs": [],
   "source": [
    "condo_6 = condos[condos.MAR_WARD == 'Ward 6']"
   ]
  },
  {
   "cell_type": "code",
   "execution_count": 46,
   "metadata": {},
   "outputs": [
    {
     "data": {
      "text/plain": [
       "(2640, 34)"
      ]
     },
     "execution_count": 46,
     "metadata": {},
     "output_type": "execute_result"
    }
   ],
   "source": [
    "condo_6.shape"
   ]
  },
  {
   "cell_type": "code",
   "execution_count": 47,
   "metadata": {},
   "outputs": [
    {
     "name": "stderr",
     "output_type": "stream",
     "text": [
      "/Applications/anaconda/envs/widsc/lib/python3.6/site-packages/ipykernel/__main__.py:3: SettingWithCopyWarning: \n",
      "A value is trying to be set on a copy of a slice from a DataFrame\n",
      "\n",
      "See the caveats in the documentation: http://pandas.pydata.org/pandas-docs/stable/indexing.html#indexing-view-versus-copy\n",
      "  app.launch_new_instance()\n"
     ]
    }
   ],
   "source": [
    "condo_6.drop(['full_address',  'MAR_MATCHADDRESS', 'MAR_XCOORD', 'MAR_YCOORD', 'MAR_LATITUDE', 'MAR_LONGITUDE', \n",
    "              'MAR_WARD', 'MAR_ZIPCODE', 'MARID', 'MAR_ERROR', 'MAR_SCORE', 'MAR_SOURCEOPERATION', \n",
    "              'MAR_IGNORE'], axis=1, inplace=True)"
   ]
  },
  {
   "cell_type": "code",
   "execution_count": 48,
   "metadata": {},
   "outputs": [
    {
     "data": {
      "text/plain": [
       "(2640, 21)"
      ]
     },
     "execution_count": 48,
     "metadata": {},
     "output_type": "execute_result"
    }
   ],
   "source": [
    "condo_6.shape"
   ]
  },
  {
   "cell_type": "code",
   "execution_count": 49,
   "metadata": {},
   "outputs": [
    {
     "name": "stdout",
     "output_type": "stream",
     "text": [
      "<class 'pandas.core.frame.DataFrame'>\n",
      "Int64Index: 2640 entries, 192 to 19562\n",
      "Data columns (total 21 columns):\n",
      "SSL                 2640 non-null object\n",
      "BLDG_NUM            2640 non-null int64\n",
      "CMPLX_NUM           2640 non-null int64\n",
      "AYB                 2640 non-null int64\n",
      "EYB                 2640 non-null int64\n",
      "BEDRM               2640 non-null float64\n",
      "BATHRM              2640 non-null float64\n",
      "HF_BATHRM           2640 non-null float64\n",
      "HEAT                2640 non-null float64\n",
      "HEAT_D              2640 non-null object\n",
      "AC                  2640 non-null object\n",
      "FIREPLACES          2640 non-null float64\n",
      "SALEDATE            2640 non-null datetime64[ns]\n",
      "PRICE               2640 non-null float64\n",
      "SALE_NUM            2640 non-null int64\n",
      "LIVING_GBA          2640 non-null int64\n",
      "UNIT_ID             2640 non-null int64\n",
      "ADDRESS_ID          2640 non-null int64\n",
      "FULLADDRESS         2640 non-null object\n",
      "UNITNUM             2640 non-null object\n",
      "MAR_CENSUS_TRACT    2640 non-null int64\n",
      "dtypes: datetime64[ns](1), float64(6), int64(9), object(5)\n",
      "memory usage: 453.8+ KB\n"
     ]
    }
   ],
   "source": [
    "condo_6.info()"
   ]
  },
  {
   "cell_type": "markdown",
   "metadata": {},
   "source": [
    "### Exploratory Data Analysis\n",
    "\n",
    "Congratulations! You have just wrangled a dataset!\n",
    "\n",
    "We set up a hypotheical scenario at the beginning of this workshop that guided our data wrangling. This is not the only thing that can be done with this data, nor is this the only way to perform data wrangling. It was, however, illustrative of things to thing about along the way.\n",
    "\n",
    "\n",
    "All of those steps have lead us to a point where we can start doing some EDA and even machine learning on our data. Even though machine learning is outside the scope of this workshop, it is worth noting that if you are going to perform machine learning with something like [scikit-learn](http://scikit-learn.org/stable/) you will need to have numeric data. We do have a few columns with non-numeric data we would need to deal with before using a scikit-learn model, either by encoding the data to numeric values or dropping more columns from the data our models will use. \n",
    "\n",
    "We will leave those for now while we look at some ways to learn more about our data.\n",
    "\n",
    "Describe in pandas will provide us with descriptive statistics about our data."
   ]
  },
  {
   "cell_type": "code",
   "execution_count": 50,
   "metadata": {},
   "outputs": [
    {
     "data": {
      "text/html": [
       "<div>\n",
       "<style>\n",
       "    .dataframe thead tr:only-child th {\n",
       "        text-align: right;\n",
       "    }\n",
       "\n",
       "    .dataframe thead th {\n",
       "        text-align: left;\n",
       "    }\n",
       "\n",
       "    .dataframe tbody tr th {\n",
       "        vertical-align: top;\n",
       "    }\n",
       "</style>\n",
       "<table border=\"1\" class=\"dataframe\">\n",
       "  <thead>\n",
       "    <tr style=\"text-align: right;\">\n",
       "      <th></th>\n",
       "      <th>BLDG_NUM</th>\n",
       "      <th>CMPLX_NUM</th>\n",
       "      <th>AYB</th>\n",
       "      <th>EYB</th>\n",
       "      <th>BEDRM</th>\n",
       "      <th>BATHRM</th>\n",
       "      <th>HF_BATHRM</th>\n",
       "      <th>HEAT</th>\n",
       "      <th>FIREPLACES</th>\n",
       "      <th>PRICE</th>\n",
       "      <th>SALE_NUM</th>\n",
       "      <th>LIVING_GBA</th>\n",
       "      <th>UNIT_ID</th>\n",
       "      <th>ADDRESS_ID</th>\n",
       "      <th>MAR_CENSUS_TRACT</th>\n",
       "    </tr>\n",
       "  </thead>\n",
       "  <tbody>\n",
       "    <tr>\n",
       "      <th>count</th>\n",
       "      <td>2640.0</td>\n",
       "      <td>2640.000000</td>\n",
       "      <td>2640.000000</td>\n",
       "      <td>2640.000000</td>\n",
       "      <td>2640.000000</td>\n",
       "      <td>2640.000000</td>\n",
       "      <td>2640.000000</td>\n",
       "      <td>2640.000000</td>\n",
       "      <td>2640.000000</td>\n",
       "      <td>2.640000e+03</td>\n",
       "      <td>2640.000000</td>\n",
       "      <td>2640.000000</td>\n",
       "      <td>2640.000000</td>\n",
       "      <td>2640.000000</td>\n",
       "      <td>2640.000000</td>\n",
       "    </tr>\n",
       "    <tr>\n",
       "      <th>mean</th>\n",
       "      <td>1.0</td>\n",
       "      <td>3158.812121</td>\n",
       "      <td>1963.009848</td>\n",
       "      <td>1966.423864</td>\n",
       "      <td>2.125379</td>\n",
       "      <td>1.796970</td>\n",
       "      <td>0.224242</td>\n",
       "      <td>4.332197</td>\n",
       "      <td>0.586742</td>\n",
       "      <td>4.604160e+05</td>\n",
       "      <td>1.818561</td>\n",
       "      <td>1115.746591</td>\n",
       "      <td>134977.663636</td>\n",
       "      <td>206655.075758</td>\n",
       "      <td>7256.703409</td>\n",
       "    </tr>\n",
       "    <tr>\n",
       "      <th>std</th>\n",
       "      <td>0.0</td>\n",
       "      <td>908.154892</td>\n",
       "      <td>47.451528</td>\n",
       "      <td>42.474068</td>\n",
       "      <td>0.347949</td>\n",
       "      <td>0.523483</td>\n",
       "      <td>0.418069</td>\n",
       "      <td>3.458281</td>\n",
       "      <td>19.794072</td>\n",
       "      <td>3.388567e+05</td>\n",
       "      <td>1.138078</td>\n",
       "      <td>359.952646</td>\n",
       "      <td>86398.825662</td>\n",
       "      <td>100704.304569</td>\n",
       "      <td>2105.446006</td>\n",
       "    </tr>\n",
       "    <tr>\n",
       "      <th>min</th>\n",
       "      <td>1.0</td>\n",
       "      <td>1346.000000</td>\n",
       "      <td>1780.000000</td>\n",
       "      <td>1880.000000</td>\n",
       "      <td>2.000000</td>\n",
       "      <td>1.000000</td>\n",
       "      <td>0.000000</td>\n",
       "      <td>0.000000</td>\n",
       "      <td>0.000000</td>\n",
       "      <td>0.000000e+00</td>\n",
       "      <td>1.000000</td>\n",
       "      <td>440.000000</td>\n",
       "      <td>270.000000</td>\n",
       "      <td>1277.000000</td>\n",
       "      <td>4600.000000</td>\n",
       "    </tr>\n",
       "    <tr>\n",
       "      <th>25%</th>\n",
       "      <td>1.0</td>\n",
       "      <td>2605.000000</td>\n",
       "      <td>1915.000000</td>\n",
       "      <td>1919.000000</td>\n",
       "      <td>2.000000</td>\n",
       "      <td>1.000000</td>\n",
       "      <td>0.000000</td>\n",
       "      <td>1.000000</td>\n",
       "      <td>0.000000</td>\n",
       "      <td>2.987500e+05</td>\n",
       "      <td>1.000000</td>\n",
       "      <td>877.750000</td>\n",
       "      <td>30515.750000</td>\n",
       "      <td>145213.000000</td>\n",
       "      <td>4802.000000</td>\n",
       "    </tr>\n",
       "    <tr>\n",
       "      <th>50%</th>\n",
       "      <td>1.0</td>\n",
       "      <td>2860.000000</td>\n",
       "      <td>1967.000000</td>\n",
       "      <td>1967.000000</td>\n",
       "      <td>2.000000</td>\n",
       "      <td>2.000000</td>\n",
       "      <td>0.000000</td>\n",
       "      <td>1.000000</td>\n",
       "      <td>0.000000</td>\n",
       "      <td>4.750000e+05</td>\n",
       "      <td>1.000000</td>\n",
       "      <td>1046.000000</td>\n",
       "      <td>120818.000000</td>\n",
       "      <td>237557.000000</td>\n",
       "      <td>7100.000000</td>\n",
       "    </tr>\n",
       "    <tr>\n",
       "      <th>75%</th>\n",
       "      <td>1.0</td>\n",
       "      <td>4051.000000</td>\n",
       "      <td>2007.000000</td>\n",
       "      <td>2007.000000</td>\n",
       "      <td>2.000000</td>\n",
       "      <td>2.000000</td>\n",
       "      <td>0.000000</td>\n",
       "      <td>8.000000</td>\n",
       "      <td>0.000000</td>\n",
       "      <td>6.100000e+05</td>\n",
       "      <td>2.000000</td>\n",
       "      <td>1249.000000</td>\n",
       "      <td>218175.500000</td>\n",
       "      <td>303505.000000</td>\n",
       "      <td>8301.000000</td>\n",
       "    </tr>\n",
       "    <tr>\n",
       "      <th>max</th>\n",
       "      <td>1.0</td>\n",
       "      <td>5505.000000</td>\n",
       "      <td>2017.000000</td>\n",
       "      <td>2017.000000</td>\n",
       "      <td>4.000000</td>\n",
       "      <td>4.000000</td>\n",
       "      <td>2.000000</td>\n",
       "      <td>13.000000</td>\n",
       "      <td>1017.000000</td>\n",
       "      <td>3.300000e+06</td>\n",
       "      <td>7.000000</td>\n",
       "      <td>5653.000000</td>\n",
       "      <td>268700.000000</td>\n",
       "      <td>313135.000000</td>\n",
       "      <td>11000.000000</td>\n",
       "    </tr>\n",
       "  </tbody>\n",
       "</table>\n",
       "</div>"
      ],
      "text/plain": [
       "       BLDG_NUM    CMPLX_NUM          AYB          EYB        BEDRM  \\\n",
       "count    2640.0  2640.000000  2640.000000  2640.000000  2640.000000   \n",
       "mean        1.0  3158.812121  1963.009848  1966.423864     2.125379   \n",
       "std         0.0   908.154892    47.451528    42.474068     0.347949   \n",
       "min         1.0  1346.000000  1780.000000  1880.000000     2.000000   \n",
       "25%         1.0  2605.000000  1915.000000  1919.000000     2.000000   \n",
       "50%         1.0  2860.000000  1967.000000  1967.000000     2.000000   \n",
       "75%         1.0  4051.000000  2007.000000  2007.000000     2.000000   \n",
       "max         1.0  5505.000000  2017.000000  2017.000000     4.000000   \n",
       "\n",
       "            BATHRM    HF_BATHRM         HEAT   FIREPLACES         PRICE  \\\n",
       "count  2640.000000  2640.000000  2640.000000  2640.000000  2.640000e+03   \n",
       "mean      1.796970     0.224242     4.332197     0.586742  4.604160e+05   \n",
       "std       0.523483     0.418069     3.458281    19.794072  3.388567e+05   \n",
       "min       1.000000     0.000000     0.000000     0.000000  0.000000e+00   \n",
       "25%       1.000000     0.000000     1.000000     0.000000  2.987500e+05   \n",
       "50%       2.000000     0.000000     1.000000     0.000000  4.750000e+05   \n",
       "75%       2.000000     0.000000     8.000000     0.000000  6.100000e+05   \n",
       "max       4.000000     2.000000    13.000000  1017.000000  3.300000e+06   \n",
       "\n",
       "          SALE_NUM   LIVING_GBA        UNIT_ID     ADDRESS_ID  \\\n",
       "count  2640.000000  2640.000000    2640.000000    2640.000000   \n",
       "mean      1.818561  1115.746591  134977.663636  206655.075758   \n",
       "std       1.138078   359.952646   86398.825662  100704.304569   \n",
       "min       1.000000   440.000000     270.000000    1277.000000   \n",
       "25%       1.000000   877.750000   30515.750000  145213.000000   \n",
       "50%       1.000000  1046.000000  120818.000000  237557.000000   \n",
       "75%       2.000000  1249.000000  218175.500000  303505.000000   \n",
       "max       7.000000  5653.000000  268700.000000  313135.000000   \n",
       "\n",
       "       MAR_CENSUS_TRACT  \n",
       "count       2640.000000  \n",
       "mean        7256.703409  \n",
       "std         2105.446006  \n",
       "min         4600.000000  \n",
       "25%         4802.000000  \n",
       "50%         7100.000000  \n",
       "75%         8301.000000  \n",
       "max        11000.000000  "
      ]
     },
     "execution_count": 50,
     "metadata": {},
     "output_type": "execute_result"
    }
   ],
   "source": [
    "condo_6.describe()"
   ]
  },
  {
   "cell_type": "markdown",
   "metadata": {},
   "source": [
    "What do you learn about the data using describe?\n",
    "\n",
    "It looks like in Ward 6, the average condo has 2.1 bedrooms, 1.8 bathrooms, has been sold twice, has an average cost of \\$460,416, and has a living area of 1115.7 square feet. It also looks like we have some prices in our data that are $0 which may skew the data. We also see there is at least one condo that sold for over 3 million dollars.\n",
    "\n",
    "Seaborn gives us a lot of options to visualize the data. We can look at the distribution of the sale price for the condos using distplot. By default, a seaborn distplot displays a histogram with the [kernel density estimate](https://en.wikipedia.org/wiki/Kernel_density_estimation) (KDE) on top."
   ]
  },
  {
   "cell_type": "code",
   "execution_count": 51,
   "metadata": {},
   "outputs": [
    {
     "data": {
      "image/png": "[encoded data removed]",
      "text/plain": [
       "<matplotlib.figure.Figure at 0x1160fbba8>"
      ]
     },
     "metadata": {},
     "output_type": "display_data"
    }
   ],
   "source": [
    "fig, ax = plt.subplots(figsize=(10,8))\n",
    "g = sns.distplot(condo_6.PRICE, rug=True, kde=True, ax=ax)\n",
    "t = g.set_title(\"Distribution of Sale Prices\")"
   ]
  },
  {
   "cell_type": "markdown",
   "metadata": {},
   "source": [
    "It would also be interesting to understand the price based on the year the unit was last sold. We have the SALEDATE and can use that to group the sales prices by year in a [box plot](https://en.wikipedia.org/wiki/Box_plot). We don't have to create a separate column with the year data. As you can see below, we can manipulate the data we want to use as part of creating the plot."
   ]
  },
  {
   "cell_type": "code",
   "execution_count": 52,
   "metadata": {},
   "outputs": [
    {
     "data": {
      "image/png": "[encoded data removed]",
      "text/plain": [
       "<matplotlib.figure.Figure at 0x11879bbe0>"
      ]
     },
     "metadata": {},
     "output_type": "display_data"
    }
   ],
   "source": [
    "fig, ax = plt.subplots(figsize=(14,8))\n",
    "g = sns.boxplot(y='PRICE', x=condo_6['SALEDATE'].dt.year, data=condo_6, ax=ax)\n",
    "t = g.set_title(\"Distribution of Sale Price by Year\")"
   ]
  },
  {
   "cell_type": "markdown",
   "metadata": {},
   "source": [
    "Seaborn's joint plot allows you to view both a joint distribution and its marginals at once."
   ]
  },
  {
   "cell_type": "code",
   "execution_count": 53,
   "metadata": {},
   "outputs": [
    {
     "data": {
      "image/png": "[encoded data removed]",
      "text/plain": [
       "<matplotlib.figure.Figure at 0x11744c550>"
      ]
     },
     "metadata": {},
     "output_type": "display_data"
    }
   ],
   "source": [
    "g = sns.jointplot(y=\"PRICE\", x=\"LIVING_GBA\", data=condo_6, kind=\"hex\", size=8)"
   ]
  },
  {
   "cell_type": "markdown",
   "metadata": {},
   "source": [
    "Since we intend to perform a regression with the data, we can also look at the correlations between our numeric variables in order to identify whether or not we have highly correlated variables. To do that, we will create (yet) another dataframe with the numerical variables. We can create a correlation matrix and provide that to the seaborn heatmap function to create a visual representation of correlation."
   ]
  },
  {
   "cell_type": "code",
   "execution_count": 54,
   "metadata": {},
   "outputs": [
    {
     "name": "stdout",
     "output_type": "stream",
     "text": [
      "<class 'pandas.core.frame.DataFrame'>\n",
      "Int64Index: 2640 entries, 192 to 19562\n",
      "Data columns (total 17 columns):\n",
      "ADDRESS_ID          2640 non-null int64\n",
      "BLDG_NUM            2640 non-null int64\n",
      "MAR_CENSUS_TRACT    2640 non-null int64\n",
      "AYB                 2640 non-null int64\n",
      "FIREPLACES          2640 non-null float64\n",
      "BATHRM              2640 non-null float64\n",
      "UNIT_ID             2640 non-null int64\n",
      "AC                  2640 non-null object\n",
      "BEDRM               2640 non-null float64\n",
      "HF_BATHRM           2640 non-null float64\n",
      "HEAT                2640 non-null float64\n",
      "EYB                 2640 non-null int64\n",
      "CMPLX_NUM           2640 non-null int64\n",
      "HEAT_D              2640 non-null object\n",
      "PRICE               2640 non-null float64\n",
      "LIVING_GBA          2640 non-null int64\n",
      "SALE_NUM            2640 non-null int64\n",
      "dtypes: float64(6), int64(9), object(2)\n",
      "memory usage: 451.2+ KB\n"
     ]
    }
   ],
   "source": [
    "numerical = condo_6[list(set(condo_6.columns) - set(['SSL', 'SALEDATE', 'FULLADDRESS', 'UNITNUM']))]\n",
    "numerical.info()"
   ]
  },
  {
   "cell_type": "code",
   "execution_count": 55,
   "metadata": {},
   "outputs": [
    {
     "data": {
      "image/png": "[encoded data removed]",
      "text/plain": [
       "<matplotlib.figure.Figure at 0x1203e5358>"
      ]
     },
     "metadata": {},
     "output_type": "display_data"
    }
   ],
   "source": [
    "corr_matrix = numerical.corr()\n",
    "fig, ax = plt.subplots(figsize=(10,10))\n",
    "sns.heatmap(corr_matrix, ax=ax);"
   ]
  },
  {
   "cell_type": "markdown",
   "metadata": {
    "collapsed": true
   },
   "source": [
    "I hope you found this introduction to python for data science a useful starting point for getting started with open data for data science projects. If you explore an open data set from DC, use some in an analysis, or find the site useful in some way, [consider contributing](https://github.com/DCgov/opendatadc-starterkit/blob/master/CONTRIBUTING.md) to [opendatadc-starterkit](https://github.com/DCgov/opendatadc-starterkit)."
   ]
  },
  {
   "cell_type": "code",
   "execution_count": null,
   "metadata": {
    "collapsed": true
   },
   "outputs": [],
   "source": []
  }
 ],
 "metadata": {
  "kernelspec": {
   "display_name": "Python [conda env:widsc]",
   "language": "python",
   "name": "conda-env-widsc-py"
  },
  "language_info": {
   "codemirror_mode": {
    "name": "ipython",
    "version": 3
   },
   "file_extension": ".py",
   "mimetype": "text/x-python",
   "name": "python",
   "nbconvert_exporter": "python",
   "pygments_lexer": "ipython3",
   "version": "3.6.2"
  }
 },
 "nbformat": 4,
 "nbformat_minor": 2
}
